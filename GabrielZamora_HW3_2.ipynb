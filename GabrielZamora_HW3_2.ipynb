{
    "metadata": {
        "kernelspec": {
            "name": "SQL",
            "display_name": "SQL",
            "language": "sql"
        },
        "language_info": {
            "name": "sql",
            "version": ""
        }
    },
    "nbformat_minor": 2,
    "nbformat": 4,
    "cells": [
        {
            "cell_type": "markdown",
            "source": [
                "## Proposition 1: Show each order with the customer's name\n",
                "\n",
                "**Why special:** Looks at all customers and does a simple JOIN to match customers to their order."
            ],
            "metadata": {
                "azdata_cell_guid": "cd1bec50-f47f-4ebc-b5c2-a0a457fbe783"
            },
            "attachments": {}
        },
        {
            "cell_type": "code",
            "source": [
                "SELECT \r\n",
                "    CustomerOrder.OrderID,\r\n",
                "    CustomerOrder.OrderDate,\r\n",
                "    Customer.CustomerName\r\n",
                "FROM Sales.Orders AS CustomerOrder\r\n",
                "JOIN Sales.Customers AS Customer\r\n",
                "    ON Customer.CustomerID = CustomerOrder.CustomerID;"
            ],
            "metadata": {
                "azdata_cell_guid": "059fb787-52cc-4b2a-bd29-9a02fbe91cc5",
                "language": "sql",
                "tags": []
            },
            "outputs": [],
            "execution_count": null
        },
        {
            "cell_type": "markdown",
            "source": [
                "## Proposition 2:Orders from 2016 with the customer's name\n",
                "\n",
                "**Why special:** Uses a range filter to find the strongest customer from a certain year."
            ],
            "metadata": {
                "language": "sql",
                "azdata_cell_guid": "33de5753-2776-4774-b407-61e9eb6374e9"
            },
            "attachments": {}
        },
        {
            "cell_type": "code",
            "source": [
                "SELECT \r\n",
                "    CustomerOrder.OrderID,\r\n",
                "    CustomerOrder.OrderDate,\r\n",
                "    Customer.CustomerName\r\n",
                "FROM Sales.Orders AS CustomerOrder\r\n",
                "JOIN Sales.Customers AS Customer\r\n",
                "    ON Customer.CustomerID = CustomerOrder.CustomerID\r\n",
                "WHERE CustomerOrder.OrderDate >= '2016-01-01'\r\n",
                "  AND CustomerOrder.OrderDate <  '2017-01-01';"
            ],
            "metadata": {
                "language": "sql",
                "azdata_cell_guid": "d588ad04-9f58-4e55-bc9f-2bc1b3c11de7",
                "tags": []
            },
            "outputs": [],
            "execution_count": null
        },
        {
            "cell_type": "markdown",
            "source": [
                "## Proposition 3:Orders with their salespeople from June 2015\n",
                "\n",
                "**Why special:** Uses a JOIN to find best employee of the month, for readability."
            ],
            "metadata": {
                "language": "sql",
                "azdata_cell_guid": "9e356d06-575e-4777-9f48-be1e89e091ac"
            },
            "attachments": {}
        },
        {
            "cell_type": "code",
            "source": [
                "SELECT \r\n",
                "    CustomerOrder.OrderID,\r\n",
                "    CustomerOrder.OrderDate,\r\n",
                "    Customer.CustomerName,\r\n",
                "    Salesperson.FullName AS SalespersonName\r\n",
                "FROM Sales.Orders AS CustomerOrder\r\n",
                "JOIN Sales.Customers AS Customer\r\n",
                "    ON Customer.CustomerID = CustomerOrder.CustomerID\r\n",
                "JOIN Application.People AS Salesperson\r\n",
                "    ON Salesperson.PersonID = CustomerOrder.SalespersonPersonID\r\n",
                "WHERE CustomerOrder.OrderDate >= '2015-06-01'\r\n",
                "  AND CustomerOrder.OrderDate <  '2015-07-01'\r\n",
                "ORDER BY CustomerOrder.OrderDate;"
            ],
            "metadata": {
                "language": "sql",
                "azdata_cell_guid": "8ec146d4-066c-4571-a603-3901305c8c2d",
                "tags": []
            },
            "outputs": [],
            "execution_count": null
        },
        {
            "cell_type": "markdown",
            "source": [
                "## Proposition 4:Rank the 10 best salespersons by total revenue\n",
                "\n",
                "**Why special:** Uses a join to find the best salesperson like a leaderboard. can be used for a best employee ever kind-of-thing."
            ],
            "metadata": {
                "language": "sql",
                "azdata_cell_guid": "381a0854-54f9-44d7-a345-f366dab6bc76"
            },
            "attachments": {}
        },
        {
            "cell_type": "code",
            "source": [
                "SELECT\r\n",
                " Salesperson.FullName AS SalespersonName,\r\n",
                "    SUM(OrderLine.Quantity * OrderLine.UnitPrice) AS TotalSalesRevenue\r\n",
                "FROM Sales.Orders AS CustomerOrder\r\n",
                "JOIN Sales.OrderLines AS OrderLine\r\n",
                "    ON CustomerOrder.OrderID = OrderLine.OrderID\r\n",
                "JOIN Application.People AS Salesperson\r\n",
                "    ON CustomerOrder.SalespersonPersonID = Salesperson.PersonID\r\n",
                "WHERE CustomerOrder.OrderDate >= '2015-01-01'\r\n",
                "  AND CustomerOrder.OrderDate <  '2016-01-01'\r\n",
                "GROUP BY Salesperson.FullName\r\n",
                "ORDER BY TotalSalesRevenue DESC;"
            ],
            "metadata": {
                "language": "sql",
                "azdata_cell_guid": "1caf27c4-cdc1-4f79-bf15-903ed3ea931b",
                "tags": []
            },
            "outputs": [],
            "execution_count": null
        },
        {
            "cell_type": "markdown",
            "source": [
                "## Proposition 5:First Order date per customer in 2015\n",
                "\n",
                "**Why special:** Finds the first order per customer using a JOIN within a specific window"
            ],
            "metadata": {
                "language": "sql",
                "azdata_cell_guid": "765577fc-3fbd-4e81-afc1-93b7bb515454"
            },
            "attachments": {}
        },
        {
            "cell_type": "code",
            "source": [
                "SELECT\r\n",
                "    Customer.CustomerID,\r\n",
                "    Customer.CustomerName,\r\n",
                "    MIN(CustomerOrder.OrderDate) AS FirstOrderDate2015\r\n",
                "FROM Sales.Customers AS Customer\r\n",
                "JOIN Sales.Orders AS CustomerOrder\r\n",
                "    ON CustomerOrder.CustomerID = Customer.CustomerID\r\n",
                "   AND CustomerOrder.OrderDate >= '2015-01-01'\r\n",
                "   AND CustomerOrder.OrderDate <  '2016-01-01'\r\n",
                "GROUP BY\r\n",
                "    Customer.CustomerID,\r\n",
                "    Customer.CustomerName\r\n",
                "ORDER BY FirstOrderDate2015;"
            ],
            "metadata": {
                "language": "sql",
                "azdata_cell_guid": "abd88e37-f0ad-4a59-a724-d8fd097688e6",
                "tags": []
            },
            "outputs": [],
            "execution_count": null
        },
        {
            "cell_type": "markdown",
            "source": [
                "## Proposition 6: Top 10 invoices by total (Q2-2015)\n",
                "\n",
                "**Why special:** Makes a leaderboard to see what customer has the highest invoice."
            ],
            "metadata": {
                "language": "sql",
                "azdata_cell_guid": "1360998a-3fab-456b-b1cf-9743f076d76e"
            },
            "attachments": {}
        },
        {
            "cell_type": "code",
            "source": [
                "SELECT TOP (10)\r\n",
                "    Invoice.InvoiceID,\r\n",
                "    Invoice.InvoiceDate,\r\n",
                "    Customer.CustomerName,\r\n",
                "    SUM(InvoiceLine.Quantity * InvoiceLine.UnitPrice) AS InvoiceTotal\r\n",
                "FROM Sales.Invoices      AS Invoice\r\n",
                "JOIN Sales.InvoiceLines  AS InvoiceLine\r\n",
                "  ON InvoiceLine.InvoiceID = Invoice.InvoiceID\r\n",
                "JOIN Sales.Customers     AS Customer\r\n",
                "  ON Customer.CustomerID  = Invoice.CustomerID\r\n",
                "WHERE Invoice.InvoiceDate >= '2015-04-01'\r\n",
                "  AND Invoice.InvoiceDate <  '2015-07-01'\r\n",
                "GROUP BY\r\n",
                "    Invoice.InvoiceID,\r\n",
                "    Invoice.InvoiceDate,\r\n",
                "    Customer.CustomerName\r\n",
                "ORDER BY InvoiceTotal DESC;"
            ],
            "metadata": {
                "language": "sql",
                "azdata_cell_guid": "e9f1550d-e50c-46d3-8ea2-9ca27ac96be9",
                "tags": [
                    "hide_input"
                ]
            },
            "outputs": [],
            "execution_count": null
        },
        {
            "cell_type": "markdown",
            "source": [
                "## Proposition 7: Customers who never placed any order\n",
                "\n",
                "**Why special:**  <span style=\"color: var(--vscode-foreground);\">&nbsp;uses left join + IS NULL</span>  <span style=\"color: var(--vscode-foreground);\">&nbsp;to find who is missing (for any database incompleteness sakes)</span>"
            ],
            "metadata": {
                "language": "sql",
                "azdata_cell_guid": "4b7dd756-c158-4082-b6e0-b6f60e955fd1"
            },
            "attachments": {}
        },
        {
            "cell_type": "code",
            "source": [
                "SELECT\r\n",
                "    Customer.CustomerID,\r\n",
                "    Customer.CustomerName\r\n",
                "FROM Sales.Customers AS Customer\r\n",
                "LEFT JOIN Sales.Orders AS CustomerOrder\r\n",
                "    ON CustomerOrder.CustomerID = Customer.CustomerID\r\n",
                "WHERE CustomerOrder.OrderID IS NULL\r\n",
                "ORDER BY Customer.CustomerName;"
            ],
            "metadata": {
                "language": "sql",
                "azdata_cell_guid": "e174d9ab-4dea-417b-be54-b8b14841debe",
                "tags": [
                    "hide_input"
                ]
            },
            "outputs": [],
            "execution_count": null
        },
        {
            "cell_type": "markdown",
            "source": [
                "## Proposition 8:Orders by delivery city (2015)\n",
                "\n",
                "**Why special:** Uses JOIN to find the best cities and their amount of deliveries made, you can use this to see what your strongest cities, cities you need to work on"
            ],
            "metadata": {
                "language": "sql",
                "azdata_cell_guid": "be28526c-2ec5-43fc-8685-7d074e24f5fa"
            },
            "attachments": {}
        },
        {
            "cell_type": "code",
            "source": [
                "SELECT\r\n",
                "    City.CityName,\r\n",
                "    COUNT(CustomerOrder.OrderID) AS OrdersIn2015\r\n",
                "FROM Sales.Customers             AS Customer\r\n",
                "JOIN Application.Cities          AS City\r\n",
                "  ON City.CityID = Customer.DeliveryCityID\r\n",
                "JOIN Sales.Orders                AS CustomerOrder\r\n",
                "  ON CustomerOrder.CustomerID = Customer.CustomerID\r\n",
                " AND CustomerOrder.OrderDate  >= '2015-01-01' AND CustomerOrder.OrderDate  <  '2016-01-01'\r\n",
                "GROUP BY City.CityName\r\n",
                "ORDER BY OrdersIn2015 DESC, City.CityName;"
            ],
            "metadata": {
                "language": "sql",
                "azdata_cell_guid": "a403bbe3-0619-49f6-b221-578dac1bbd91",
                "tags": [
                    "hide_input"
                ]
            },
            "outputs": [],
            "execution_count": null
        },
        {
            "cell_type": "markdown",
            "source": [
                "## Proposition 9: Orders and their invoices\n",
                "\n",
                "**Why special:** Uses a SELECT and JOIN to get the sales orders and its invoices to get specific information in case of customer support."
            ],
            "metadata": {
                "language": "sql",
                "azdata_cell_guid": "25b4281b-3f16-47a1-bdba-3e267cdd40c7"
            },
            "attachments": {}
        },
        {
            "cell_type": "code",
            "source": [
                "SELECT\r\n",
                "    CustomerOrder.OrderID,\r\n",
                "    CustomerOrder.OrderDate,\r\n",
                "    Invoice.InvoiceID,\r\n",
                "    Invoice.InvoiceDate\r\n",
                "FROM Sales.Orders AS CustomerOrder\r\n",
                "JOIN Sales.Invoices AS Invoice\r\n",
                "    ON CustomerOrder.OrderID = Invoice.OrderID\r\n",
                "ORDER BY CustomerOrder.OrderDate;"
            ],
            "metadata": {
                "language": "sql",
                "azdata_cell_guid": "ff6bc419-eab5-4b16-93b4-626490b2a651",
                "tags": []
            },
            "outputs": [],
            "execution_count": null
        },
        {
            "cell_type": "markdown",
            "source": [
                "## Proposition 10: Customers and the cities they belong to\n",
                "\n",
                "**Why special:** You can see any specific customer or see the strongest customer and their respective cities"
            ],
            "metadata": {
                "language": "sql",
                "azdata_cell_guid": "e89b8801-ff75-419b-a2e1-7fc00bb6bd2f"
            },
            "attachments": {}
        },
        {
            "cell_type": "code",
            "source": [
                "SELECT \r\n",
                "    Customer.CustomerName,\r\n",
                "    City.CityName\r\n",
                "FROM Sales.Customers AS Customer\r\n",
                "JOIN Application.Cities AS City\r\n",
                "    ON Customer.DeliveryCityID = City.CityID\r\n",
                "ORDER BY City.CityName;"
            ],
            "metadata": {
                "language": "sql",
                "azdata_cell_guid": "432ff181-e377-4f02-a6b5-04fba428b351",
                "tags": []
            },
            "outputs": [
                {
                    "output_type": "display_data",
                    "data": {
                        "text/html": "(663 rows affected)"
                    },
                    "metadata": {}
                },
                {
                    "output_type": "display_data",
                    "data": {
                        "text/html": "Total execution time: 00:00:00.015"
                    },
                    "metadata": {}
                },
                {
                    "output_type": "execute_result",
                    "metadata": {},
                    "execution_count": 37,
                    "data": {
                        "application/vnd.dataresource+json": {
                            "schema": {
                                "fields": [
                                    {
                                        "name": "CustomerName"
                                    },
                                    {
                                        "name": "CityName"
                                    }
                                ]
                            },
                            "data": [
                                {
                                    "CustomerName": "Camille Authier",
                                    "CityName": "Abbottsburg"
                                },
                                {
                                    "CustomerName": "Tailspin Toys (Absecon, NJ)",
                                    "CityName": "Absecon"
                                },
                                {
                                    "CustomerName": "Wingtip Toys (Accomac, VA)",
                                    "CityName": "Accomac"
                                },
                                {
                                    "CustomerName": "Tailspin Toys (Aceitunas, PR)",
                                    "CityName": "Aceitunas"
                                },
                                {
                                    "CustomerName": "Tailspin Toys (Airport Drive, MO)",
                                    "CityName": "Airport Drive"
                                },
                                {
                                    "CustomerName": "Wingtip Toys (Akhiok, AK)",
                                    "CityName": "Akhiok"
                                },
                                {
                                    "CustomerName": "Caterina Pinto",
                                    "CityName": "Akhiok"
                                },
                                {
                                    "CustomerName": "Wingtip Toys (Alcester, SD)",
                                    "CityName": "Alcester"
                                },
                                {
                                    "CustomerName": "Bahaar Asef zade",
                                    "CityName": "Alden Bridge"
                                },
                                {
                                    "CustomerName": "Tailspin Toys (Alstead, NH)",
                                    "CityName": "Alstead"
                                },
                                {
                                    "CustomerName": "Wingtip Toys (Amado, AZ)",
                                    "CityName": "Amado"
                                },
                                {
                                    "CustomerName": "Tailspin Toys (Amanda Park, WA)",
                                    "CityName": "Amanda Park"
                                },
                                {
                                    "CustomerName": "Tailspin Toys (Andrix, CO)",
                                    "CityName": "Andrix"
                                },
                                {
                                    "CustomerName": "Tailspin Toys (Annamoriah, WV)",
                                    "CityName": "Annamoriah"
                                },
                                {
                                    "CustomerName": "Tailspin Toys (Antares, AZ)",
                                    "CityName": "Antares"
                                },
                                {
                                    "CustomerName": "Tailspin Toys (Antonito, CO)",
                                    "CityName": "Antonito"
                                },
                                {
                                    "CustomerName": "Tailspin Toys (Arbor Vitae, WI)",
                                    "CityName": "Arbor Vitae"
                                },
                                {
                                    "CustomerName": "Sointu Savonheimo",
                                    "CityName": "Argusville"
                                },
                                {
                                    "CustomerName": "Tailspin Toys (Arietta, NY)",
                                    "CityName": "Arietta"
                                },
                                {
                                    "CustomerName": "Tailspin Toys (Armstrong Creek, WI)",
                                    "CityName": "Armstrong Creek"
                                },
                                {
                                    "CustomerName": "Tailspin Toys (Arrow Rock, MO)",
                                    "CityName": "Arrow Rock"
                                },
                                {
                                    "CustomerName": "Anca Gogean",
                                    "CityName": "Arrowbear Lake"
                                },
                                {
                                    "CustomerName": "Rani Ganguly",
                                    "CityName": "Arrowhead Highlands"
                                },
                                {
                                    "CustomerName": "Wingtip Toys (Asher, OK)",
                                    "CityName": "Asher"
                                },
                                {
                                    "CustomerName": "Chompoo Atitarn",
                                    "CityName": "Ashland"
                                },
                                {
                                    "CustomerName": "Tailspin Toys (Ashtabula, OH)",
                                    "CityName": "Ashtabula"
                                },
                                {
                                    "CustomerName": "Tailspin Toys (Aspen Park, CO)",
                                    "CityName": "Aspen Park"
                                },
                                {
                                    "CustomerName": "Tailspin Toys (Astor Park, FL)",
                                    "CityName": "Astor Park"
                                },
                                {
                                    "CustomerName": "Wingtip Toys (Athol Springs, NY)",
                                    "CityName": "Athol Springs"
                                },
                                {
                                    "CustomerName": "Tailspin Toys (Avenal, CA)",
                                    "CityName": "Avenal"
                                },
                                {
                                    "CustomerName": "Daakshaayaani Kommineni",
                                    "CityName": "Bakers Mill"
                                },
                                {
                                    "CustomerName": "Wingtip Toys (Baldwin City, KS)",
                                    "CityName": "Baldwin City"
                                },
                                {
                                    "CustomerName": "Wingtip Toys (Balko, OK)",
                                    "CityName": "Balko"
                                },
                                {
                                    "CustomerName": "Tailspin Toys (Baraboo, WI)",
                                    "CityName": "Baraboo"
                                },
                                {
                                    "CustomerName": "Erik Malk",
                                    "CityName": "Basin"
                                },
                                {
                                    "CustomerName": "Tailspin Toys (Batson, TX)",
                                    "CityName": "Batson"
                                },
                                {
                                    "CustomerName": "Violetta KlanCisar",
                                    "CityName": "Bayou Cane"
                                },
                                {
                                    "CustomerName": "Risto Valbe",
                                    "CityName": "Bazemore"
                                },
                                {
                                    "CustomerName": "Wingtip Toys (Beals, ME)",
                                    "CityName": "Beals"
                                },
                                {
                                    "CustomerName": "Mikhail Degtyarev",
                                    "CityName": "Beaver Bay"
                                },
                                {
                                    "CustomerName": "Wingtip Toys (Beekmantown, NY)",
                                    "CityName": "Beekmantown"
                                },
                                {
                                    "CustomerName": "Tailspin Toys (Belgreen, AL)",
                                    "CityName": "Belgreen"
                                },
                                {
                                    "CustomerName": "Wingtip Toys (Bell Acres, PA)",
                                    "CityName": "Bell Acres"
                                },
                                {
                                    "CustomerName": "Clarissa Manfrin",
                                    "CityName": "Ben Arnold"
                                },
                                {
                                    "CustomerName": "Wingtip Toys (Bergen Park, CO)",
                                    "CityName": "Bergen Park"
                                },
                                {
                                    "CustomerName": "Mahmut ozbek",
                                    "CityName": "Bernardston"
                                },
                                {
                                    "CustomerName": "Tailspin Toys (Bernie, MO)",
                                    "CityName": "Bernie"
                                },
                                {
                                    "CustomerName": "Wingtip Toys (Bernstein, TX)",
                                    "CityName": "Bernstein"
                                },
                                {
                                    "CustomerName": "Wingtip Toys (Berville, MI)",
                                    "CityName": "Berville"
                                },
                                {
                                    "CustomerName": "Tailspin Toys (Bethania, NC)",
                                    "CityName": "Bethania"
                                },
                                {
                                    "CustomerName": "Wingtip Toys (Bethel Acres, OK)",
                                    "CityName": "Bethel Acres"
                                },
                                {
                                    "CustomerName": "Tailspin Toys (Big Moose, NY)",
                                    "CityName": "Big Moose"
                                },
                                {
                                    "CustomerName": "Aishwarya Dantuluri",
                                    "CityName": "Biggs"
                                },
                                {
                                    "CustomerName": "Nadir Seddigh",
                                    "CityName": "Biorka"
                                },
                                {
                                    "CustomerName": "Wingtip Toys (Birds, IL)",
                                    "CityName": "Birds"
                                },
                                {
                                    "CustomerName": "Tailspin Toys (Biscay, MN)",
                                    "CityName": "Biscay"
                                },
                                {
                                    "CustomerName": "Wingtip Toys (Black Lick, PA)",
                                    "CityName": "Black Lick"
                                },
                                {
                                    "CustomerName": "Rodrigo Figueiredo",
                                    "CityName": "Blackville"
                                },
                                {
                                    "CustomerName": "Liia Orav",
                                    "CityName": "Bladenboro"
                                },
                                {
                                    "CustomerName": "Wingtip Toys (Boalsburg, PA)",
                                    "CityName": "Boalsburg"
                                },
                                {
                                    "CustomerName": "Sara Huiting",
                                    "CityName": "Bock"
                                },
                                {
                                    "CustomerName": "Wingtip Toys (Bokeelia, FL)",
                                    "CityName": "Bokeelia"
                                },
                                {
                                    "CustomerName": "Edgar Jogi",
                                    "CityName": "Bombay Beach"
                                },
                                {
                                    "CustomerName": "Wingtip Toys (Bonner Springs, KS)",
                                    "CityName": "Bonner Springs"
                                },
                                {
                                    "CustomerName": "Wingtip Toys (Bourbonnais, IL)",
                                    "CityName": "Bourbonnais"
                                },
                                {
                                    "CustomerName": "Wingtip Toys (Bourneville, OH)",
                                    "CityName": "Bourneville"
                                },
                                {
                                    "CustomerName": "Tailspin Toys (Bow Mar, CO)",
                                    "CityName": "Bow Mar"
                                },
                                {
                                    "CustomerName": "Raghu Sandhu",
                                    "CityName": "Bowleys Quarters"
                                },
                                {
                                    "CustomerName": "Tailspin Toys (Bowlus, MN)",
                                    "CityName": "Bowlus"
                                },
                                {
                                    "CustomerName": "Kalyani Benjaree",
                                    "CityName": "Bowmansville"
                                },
                                {
                                    "CustomerName": "Tailspin Toys (Boyden Arbor, SC)",
                                    "CityName": "Boyden Arbor"
                                },
                                {
                                    "CustomerName": "Wingtip Toys (Boynton, OK)",
                                    "CityName": "Boynton"
                                },
                                {
                                    "CustomerName": "Wingtip Toys (Bozeman Hot Springs, MT)",
                                    "CityName": "Bozeman Hot Springs"
                                },
                                {
                                    "CustomerName": "Agrita Kanepa",
                                    "CityName": "Branchburg Park"
                                },
                                {
                                    "CustomerName": "Wingtip Toys (Branson West, MO)",
                                    "CityName": "Branson West"
                                },
                                {
                                    "CustomerName": "Tailspin Toys (Bratenahl, OH)",
                                    "CityName": "Bratenahl"
                                },
                                {
                                    "CustomerName": "Isidora Urias",
                                    "CityName": "Bratt"
                                },
                                {
                                    "CustomerName": "Farzana Habibi",
                                    "CityName": "Brookville"
                                },
                                {
                                    "CustomerName": "Wingtip Toys (Broomtown, AL)",
                                    "CityName": "Broomtown"
                                },
                                {
                                    "CustomerName": "Tailspin Toys (Brown City, MI)",
                                    "CityName": "Brown City"
                                },
                                {
                                    "CustomerName": "Wingtip Toys (Bruceton Mills, WV)",
                                    "CityName": "Bruceton Mills"
                                },
                                {
                                    "CustomerName": "Ana Florea",
                                    "CityName": "Buchanan Lake Village"
                                },
                                {
                                    "CustomerName": "Tailspin Toys (Buell, MO)",
                                    "CityName": "Buell"
                                },
                                {
                                    "CustomerName": "Arka Chatterjee",
                                    "CityName": "Byers"
                                },
                                {
                                    "CustomerName": "Wingtip Toys (Cache, OK)",
                                    "CityName": "Cache"
                                },
                                {
                                    "CustomerName": "Wingtip Toys (Cadogan, PA)",
                                    "CityName": "Cadogan"
                                },
                                {
                                    "CustomerName": "Wingtip Toys (Cale, AR)",
                                    "CityName": "Cale"
                                },
                                {
                                    "CustomerName": "Matyas Sedlar",
                                    "CityName": "Calvert City"
                                },
                                {
                                    "CustomerName": "Cosmina Vlad",
                                    "CityName": "Cañon"
                                },
                                {
                                    "CustomerName": "Chin-Sun Chang",
                                    "CityName": "Capa"
                                },
                                {
                                    "CustomerName": "Wingtip Toys (Cape Neddick, ME)",
                                    "CityName": "Cape Neddick"
                                },
                                {
                                    "CustomerName": "Tailspin Toys (Carbonville, UT)",
                                    "CityName": "Carbonville"
                                },
                                {
                                    "CustomerName": "Wingtip Toys (Caro, MI)",
                                    "CityName": "Caro"
                                },
                                {
                                    "CustomerName": "Ajitaab Pakalapati",
                                    "CityName": "Caruthers"
                                },
                                {
                                    "CustomerName": "Tailspin Toys (Caselton, NV)",
                                    "CityName": "Caselton"
                                },
                                {
                                    "CustomerName": "Kwanjai Saowaluk",
                                    "CityName": "Cataño"
                                },
                                {
                                    "CustomerName": "Krishnam Allu",
                                    "CityName": "Catesby"
                                },
                                {
                                    "CustomerName": "Wingtip Toys (Caton, NY)",
                                    "CityName": "Caton"
                                },
                                {
                                    "CustomerName": "Baran Jonsson",
                                    "CityName": "Cave Junction"
                                },
                                {
                                    "CustomerName": "Wingtip Toys (Cavendish, VT)",
                                    "CityName": "Cavendish"
                                },
                                {
                                    "CustomerName": "Bhaavan Rai",
                                    "CityName": "Chalco"
                                },
                                {
                                    "CustomerName": "Wingtip Toys (Chaseley, ND)",
                                    "CityName": "Chaseley"
                                },
                                {
                                    "CustomerName": "Lana Goransson",
                                    "CityName": "Chateaugay"
                                },
                                {
                                    "CustomerName": "Urve Kasesalu",
                                    "CityName": "Cherokee"
                                },
                                {
                                    "CustomerName": "Drazenka Jelic",
                                    "CityName": "Cherry Grove Beach"
                                },
                                {
                                    "CustomerName": "Tailspin Toys (Cherry Grove Beach, SC)",
                                    "CityName": "Cherry Grove Beach"
                                },
                                {
                                    "CustomerName": "Wingtip Toys (Cherryplain, NY)",
                                    "CityName": "Cherryplain"
                                },
                                {
                                    "CustomerName": "Wingtip Toys (Chetek, WI)",
                                    "CityName": "Chetek"
                                },
                                {
                                    "CustomerName": "Tailspin Toys (Cheyenne Wells, CO)",
                                    "CityName": "Cheyenne Wells"
                                },
                                {
                                    "CustomerName": "Sara Walkky",
                                    "CityName": "Chipita Park"
                                },
                                {
                                    "CustomerName": "Hai Banh",
                                    "CityName": "Claremont"
                                },
                                {
                                    "CustomerName": "Wingtip Toys (Claycomo, MO)",
                                    "CityName": "Claycomo"
                                },
                                {
                                    "CustomerName": "Tailspin Toys (Clewiston, FL)",
                                    "CityName": "Clewiston"
                                },
                                {
                                    "CustomerName": "Wingtip Toys (Cloquet, MN)",
                                    "CityName": "Cloquet"
                                },
                                {
                                    "CustomerName": "Nada Ana Slosar",
                                    "CityName": "Cloud Lake"
                                },
                                {
                                    "CustomerName": "Dena Glissen",
                                    "CityName": "Coffeyville"
                                },
                                {
                                    "CustomerName": "Wingtip Toys (Coin, IA)",
                                    "CityName": "Coin"
                                },
                                {
                                    "CustomerName": "Tailspin Toys (Cokato, MN)",
                                    "CityName": "Cokato"
                                },
                                {
                                    "CustomerName": "Wingtip Toys (Coker, AL)",
                                    "CityName": "Coker"
                                },
                                {
                                    "CustomerName": "Raj Verma",
                                    "CityName": "Colebrook"
                                },
                                {
                                    "CustomerName": "Tailspin Toys (College Place, WA)",
                                    "CityName": "College Place"
                                },
                                {
                                    "CustomerName": "Wingtip Toys (Compass Lake, FL)",
                                    "CityName": "Compass Lake"
                                },
                                {
                                    "CustomerName": "Jitka Necesana",
                                    "CityName": "Conesus Lake"
                                },
                                {
                                    "CustomerName": "Victoria Lacusta",
                                    "CityName": "Conewango"
                                },
                                {
                                    "CustomerName": "Tailspin Toys (Coney Island, MO)",
                                    "CityName": "Coney Island"
                                },
                                {
                                    "CustomerName": "Wingtip Toys (Connoquenessing, PA)",
                                    "CityName": "Connoquenessing"
                                },
                                {
                                    "CustomerName": "Melani Ravlen",
                                    "CityName": "Cookietown"
                                },
                                {
                                    "CustomerName": "Bhagavaan Atluri",
                                    "CityName": "Coosa"
                                },
                                {
                                    "CustomerName": "Stefan Selezeanu",
                                    "CityName": "Copake"
                                },
                                {
                                    "CustomerName": "Wingtip Toys (Corcovado, PR)",
                                    "CityName": "Corcovado"
                                },
                                {
                                    "CustomerName": "Tailspin Toys (Corfu, NY)",
                                    "CityName": "Corfu"
                                },
                                {
                                    "CustomerName": "David Novacek ",
                                    "CityName": "Corryton"
                                },
                                {
                                    "CustomerName": "Tailspin Toys (Cortaro, AZ)",
                                    "CityName": "Cortaro"
                                },
                                {
                                    "CustomerName": "Wingtip Toys (Cos Cob, CT)",
                                    "CityName": "Cos Cob"
                                },
                                {
                                    "CustomerName": "Leonardo Folliero",
                                    "CityName": "Cotuit"
                                },
                                {
                                    "CustomerName": "Marie LeBatelier",
                                    "CityName": "Coupland"
                                },
                                {
                                    "CustomerName": "Wingtip Toys (Cowlington, OK)",
                                    "CityName": "Cowlington"
                                },
                                {
                                    "CustomerName": "Laura Sykorova",
                                    "CityName": "Coyville"
                                },
                                {
                                    "CustomerName": "Shantanu Huq",
                                    "CityName": "Cramerton"
                                },
                                {
                                    "CustomerName": "Tailspin Toys (Crary, ND)",
                                    "CityName": "Crary"
                                },
                                {
                                    "CustomerName": "Alvin Bollinger",
                                    "CityName": "Creelsboro"
                                },
                                {
                                    "CustomerName": "Wingtip Toys (Crossroads, NM)",
                                    "CityName": "Crossroads"
                                },
                                {
                                    "CustomerName": "Tailspin Toys (Cundiyo, NM)",
                                    "CityName": "Cundiyo"
                                },
                                {
                                    "CustomerName": "Valter Viiding",
                                    "CityName": "Cuyahoga Heights"
                                },
                                {
                                    "CustomerName": "Wingtip Toys (Cuyamungue, NM)",
                                    "CityName": "Cuyamungue"
                                },
                                {
                                    "CustomerName": "Wingtip Toys (Cylon, WI)",
                                    "CityName": "Cylon"
                                },
                                {
                                    "CustomerName": "Gabriela Hernandes",
                                    "CityName": "Cypress Quarters"
                                },
                                {
                                    "CustomerName": "Wingtip Toys (Dacono, CO)",
                                    "CityName": "Dacono"
                                },
                                {
                                    "CustomerName": "Tailspin Toys (Dahlia, NM)",
                                    "CityName": "Dahlia"
                                },
                                {
                                    "CustomerName": "Tailspin Toys (Dallardsville, TX)",
                                    "CityName": "Dallardsville"
                                },
                                {
                                    "CustomerName": "Bing Han",
                                    "CityName": "Darling"
                                },
                                {
                                    "CustomerName": "Serdar ozCelik",
                                    "CityName": "Dawn"
                                },
                                {
                                    "CustomerName": "Biju Deb",
                                    "CityName": "Deer River"
                                },
                                {
                                    "CustomerName": "Wingtip Toys (Deeson, MS)",
                                    "CityName": "Deeson"
                                },
                                {
                                    "CustomerName": "Wingtip Toys (Del Valle, TX)",
                                    "CityName": "Del Valle"
                                },
                                {
                                    "CustomerName": "Wingtip Toys (Delray, WV)",
                                    "CityName": "Delray"
                                },
                                {
                                    "CustomerName": "Harsha Huq",
                                    "CityName": "Dennis Acres"
                                },
                                {
                                    "CustomerName": "Tailspin Toys (Devault, PA)",
                                    "CityName": "Devault"
                                },
                                {
                                    "CustomerName": "Tailspin Toys (Diablock, KY)",
                                    "CityName": "Diablock"
                                },
                                {
                                    "CustomerName": "Wingtip Toys (Dickerson, MD)",
                                    "CityName": "Dickerson"
                                },
                                {
                                    "CustomerName": "Wingtip Toys (Dickworsham, TX)",
                                    "CityName": "Dickworsham"
                                },
                                {
                                    "CustomerName": "Narendra Tickoo",
                                    "CityName": "Dillon"
                                },
                                {
                                    "CustomerName": "Tailspin Toys (Donner, LA)",
                                    "CityName": "Donner"
                                },
                                {
                                    "CustomerName": "Dinh Mai",
                                    "CityName": "Dorchester"
                                },
                                {
                                    "CustomerName": "Veronika Necesana",
                                    "CityName": "Dover"
                                },
                                {
                                    "CustomerName": "Wingtip Toys (Downingtown, PA)",
                                    "CityName": "Downingtown"
                                },
                                {
                                    "CustomerName": "Tailspin Toys (Dracut, MA)",
                                    "CityName": "Dracut"
                                },
                                {
                                    "CustomerName": "Celica Barajas",
                                    "CityName": "Drakesboro"
                                },
                                {
                                    "CustomerName": "Joel Carrillo",
                                    "CityName": "Drumright"
                                },
                                {
                                    "CustomerName": "Satish Mittal",
                                    "CityName": "Dry Run"
                                },
                                {
                                    "CustomerName": "Adrian Andreasson",
                                    "CityName": "Du Quoin"
                                },
                                {
                                    "CustomerName": "Tailspin Toys (Dundarrach, NC)",
                                    "CityName": "Dundarrach"
                                },
                                {
                                    "CustomerName": "Wingtip Toys (Dunkerton, IA)",
                                    "CityName": "Dunkerton"
                                },
                                {
                                    "CustomerName": "Jakub Lukes",
                                    "CityName": "Eagle Valley"
                                },
                                {
                                    "CustomerName": "Tailspin Toys (East Dailey, WV)",
                                    "CityName": "East Dailey"
                                },
                                {
                                    "CustomerName": "Tailspin Toys (East Fultonham, OH)",
                                    "CityName": "East Fultonham"
                                },
                                {
                                    "CustomerName": "Wingtip Toys (East Fultonham, OH)",
                                    "CityName": "East Fultonham"
                                },
                                {
                                    "CustomerName": "Wingtip Toys (East Mountain, TX)",
                                    "CityName": "East Mountain"
                                },
                                {
                                    "CustomerName": "Tailspin Toys (East Portal, CO)",
                                    "CityName": "East Portal"
                                },
                                {
                                    "CustomerName": "Tailspin Toys (Eastchester, NY)",
                                    "CityName": "Eastchester"
                                },
                                {
                                    "CustomerName": "Tailspin Toys (Eden Valley, MN)",
                                    "CityName": "Eden Valley"
                                },
                                {
                                    "CustomerName": "Tailspin Toys (Edgartown, MA)",
                                    "CityName": "Edgartown"
                                },
                                {
                                    "CustomerName": "Dhaatri Chavva",
                                    "CityName": "Edgecomb"
                                },
                                {
                                    "CustomerName": "Wingtip Toys (Edmund, WI)",
                                    "CityName": "Edmund"
                                },
                                {
                                    "CustomerName": "Tailspin Toys (Ekron, KY)",
                                    "CityName": "Ekron"
                                },
                                {
                                    "CustomerName": "Ratan Poddar",
                                    "CityName": "Ekwok"
                                },
                                {
                                    "CustomerName": "Tailspin Toys (El Centro, CA)",
                                    "CityName": "El Centro"
                                },
                                {
                                    "CustomerName": "Andris Saulitis",
                                    "CityName": "El Refugio"
                                },
                                {
                                    "CustomerName": "Jack Walker",
                                    "CityName": "Elbing"
                                },
                                {
                                    "CustomerName": "Jasna Cerkez",
                                    "CityName": "Elk Garden"
                                },
                                {
                                    "CustomerName": "Libuse Valentova",
                                    "CityName": "Elkatawa"
                                },
                                {
                                    "CustomerName": "Jibek Juniskyzy",
                                    "CityName": "Ellisville"
                                },
                                {
                                    "CustomerName": "Tailspin Toys (Elrosa, MN)",
                                    "CityName": "Elrosa"
                                },
                                {
                                    "CustomerName": "Wingtip Toys (Elverson, PA)",
                                    "CityName": "Elverson"
                                },
                                {
                                    "CustomerName": "Arijit Bhuiyan",
                                    "CityName": "Esopus"
                                },
                                {
                                    "CustomerName": "Tailspin Toys (Eulaton, AL)",
                                    "CityName": "Eulaton"
                                },
                                {
                                    "CustomerName": "Bhagavati Vinjamuri",
                                    "CityName": "Ewart"
                                },
                                {
                                    "CustomerName": "Marcela Lucescu",
                                    "CityName": "Ewen"
                                },
                                {
                                    "CustomerName": "Tailspin Toys (Fairfield Glade, TN)",
                                    "CityName": "Fairfield Glade"
                                },
                                {
                                    "CustomerName": "Wingtip Toys (Federalsburg, MD)",
                                    "CityName": "Federalsburg"
                                },
                                {
                                    "CustomerName": "Wingtip Toys (Ferney, SD)",
                                    "CityName": "Ferney"
                                },
                                {
                                    "CustomerName": "Tailspin Toys (Fieldbrook, CA)",
                                    "CityName": "Fieldbrook"
                                },
                                {
                                    "CustomerName": "Tailspin Toys (Fishtail, MT)",
                                    "CityName": "Fishtail"
                                },
                                {
                                    "CustomerName": "Chuan Wattanasin",
                                    "CityName": "Flanagan"
                                },
                                {
                                    "CustomerName": "Wingtip Toys (Flomaton, AL)",
                                    "CityName": "Flomaton"
                                },
                                {
                                    "CustomerName": "Nguyen Banh",
                                    "CityName": "Florahome"
                                },
                                {
                                    "CustomerName": "Wingtip Toys (Floriston, CA)",
                                    "CityName": "Floriston"
                                },
                                {
                                    "CustomerName": "Olya Izmaylov",
                                    "CityName": "Flowella"
                                },
                                {
                                    "CustomerName": "Tai Bach",
                                    "CityName": "Fortville"
                                },
                                {
                                    "CustomerName": "Tailspin Toys (Francis Mills, NJ)",
                                    "CityName": "Francis Mills"
                                },
                                {
                                    "CustomerName": "Tailspin Toys (Frankewing, TN)",
                                    "CityName": "Frankewing"
                                },
                                {
                                    "CustomerName": "Wingtip Toys (Frenchburg, KY)",
                                    "CityName": "Frenchburg"
                                },
                                {
                                    "CustomerName": "Tailspin Toys (Furley, KS)",
                                    "CityName": "Furley"
                                },
                                {
                                    "CustomerName": "Dhanishta Pullela",
                                    "CityName": "Gallipolis Ferry"
                                },
                                {
                                    "CustomerName": "Tailspin Toys (Gardere, LA)",
                                    "CityName": "Gardere"
                                },
                                {
                                    "CustomerName": "Anil Sarkar",
                                    "CityName": "Gardners"
                                },
                                {
                                    "CustomerName": "Wingtip Toys (Gargatha, VA)",
                                    "CityName": "Gargatha"
                                },
                                {
                                    "CustomerName": "Debbie Molina",
                                    "CityName": "Garlin"
                                },
                                {
                                    "CustomerName": "Tailspin Toys (Gasport, NY)",
                                    "CityName": "Gasport"
                                },
                                {
                                    "CustomerName": "Shah Alizadeh",
                                    "CityName": "Gassaway"
                                },
                                {
                                    "CustomerName": "Wingtip Toys (Gilford, NH)",
                                    "CityName": "Gilford"
                                },
                                {
                                    "CustomerName": "Wingtip Toys (Glancy, MS)",
                                    "CityName": "Glancy"
                                },
                                {
                                    "CustomerName": "Tailspin Toys (Glen Avon, CA)",
                                    "CityName": "Glen Avon"
                                },
                                {
                                    "CustomerName": "Tailspin Toys (Glen Park, NY)",
                                    "CityName": "Glen Park"
                                },
                                {
                                    "CustomerName": "Wingtip Toys (Glen Ullin, ND)",
                                    "CityName": "Glen Ullin"
                                },
                                {
                                    "CustomerName": "Aakriti Byrraju",
                                    "CityName": "Glenwillow"
                                },
                                {
                                    "CustomerName": "Tailspin Toys (Goffstown, NH)",
                                    "CityName": "Goffstown"
                                },
                                {
                                    "CustomerName": "Elina Kaleja",
                                    "CityName": "Golden Meadow"
                                },
                                {
                                    "CustomerName": "Daevasree Samavedam",
                                    "CityName": "Golf View"
                                },
                                {
                                    "CustomerName": "Tailspin Toys (Good Hart, MI)",
                                    "CityName": "Good Hart"
                                },
                                {
                                    "CustomerName": "Wingtip Toys (Goodings Grove, IL)",
                                    "CityName": "Goodings Grove"
                                },
                                {
                                    "CustomerName": "Wingtip Toys (Grabill, IN)",
                                    "CityName": "Grabill"
                                },
                                {
                                    "CustomerName": "Sabine Alksne",
                                    "CityName": "Grannis"
                                },
                                {
                                    "CustomerName": "Roko Ilic",
                                    "CityName": "Grantsburg"
                                },
                                {
                                    "CustomerName": "Christian Couet",
                                    "CityName": "Great Neck"
                                },
                                {
                                    "CustomerName": "Tailspin Toys (Great Neck Estates, NY)",
                                    "CityName": "Great Neck Estates"
                                },
                                {
                                    "CustomerName": "Juan Morse",
                                    "CityName": "Greenback"
                                },
                                {
                                    "CustomerName": "Bhagavateeprasaad Malladi",
                                    "CityName": "Greenfield"
                                },
                                {
                                    "CustomerName": "Kertu Sokk",
                                    "CityName": "Greig"
                                },
                                {
                                    "CustomerName": "Lilli Sokk",
                                    "CityName": "Gresston"
                                },
                                {
                                    "CustomerName": "Nils Kaulins",
                                    "CityName": "Greycliff"
                                },
                                {
                                    "CustomerName": "Jai Lamble",
                                    "CityName": "Grider"
                                },
                                {
                                    "CustomerName": "Wingtip Toys (Griswoldville, GA)",
                                    "CityName": "Griswoldville"
                                },
                                {
                                    "CustomerName": "Tailspin Toys (Guin, AL)",
                                    "CityName": "Guin"
                                },
                                {
                                    "CustomerName": "Tailspin Toys (Gum Branch, GA)",
                                    "CityName": "Gum Branch"
                                },
                                {
                                    "CustomerName": "Kamala Nishad",
                                    "CityName": "Haddon Heights"
                                },
                                {
                                    "CustomerName": "Tailspin Toys (Hahira, GA)",
                                    "CityName": "Hahira"
                                },
                                {
                                    "CustomerName": "Sabine Zalite",
                                    "CityName": "Haltom City"
                                },
                                {
                                    "CustomerName": "Tailspin Toys (Hambleton, WV)",
                                    "CityName": "Hambleton"
                                },
                                {
                                    "CustomerName": "Meera Patel",
                                    "CityName": "Hanaford"
                                },
                                {
                                    "CustomerName": "Annette  Hetu",
                                    "CityName": "Hanna"
                                },
                                {
                                    "CustomerName": "Tailspin Toys (Hanoverton, OH)",
                                    "CityName": "Hanoverton"
                                },
                                {
                                    "CustomerName": "Sumati Bhat",
                                    "CityName": "Harbour Pointe"
                                },
                                {
                                    "CustomerName": "Tailspin Toys (Hardeeville, SC)",
                                    "CityName": "Hardeeville"
                                },
                                {
                                    "CustomerName": "Wingtip Toys (Harkers Island, NC)",
                                    "CityName": "Harkers Island"
                                },
                                {
                                    "CustomerName": "Ida Celma",
                                    "CityName": "Hawarden"
                                },
                                {
                                    "CustomerName": "Wingtip Toys (Haycock, AK)",
                                    "CityName": "Haycock"
                                },
                                {
                                    "CustomerName": "Wingtip Toys (Haydenville, OH)",
                                    "CityName": "Haydenville"
                                },
                                {
                                    "CustomerName": "Tailspin Toys (Hayes Center, NE)",
                                    "CityName": "Hayes Center"
                                },
                                {
                                    "CustomerName": "Wingtip Toys (Heartwell, NE)",
                                    "CityName": "Heartwell"
                                },
                                {
                                    "CustomerName": "Tailspin Toys (Hedrick, IA)",
                                    "CityName": "Hedrick"
                                },
                                {
                                    "CustomerName": "Tailspin Toys (Heilwood, PA)",
                                    "CityName": "Heilwood"
                                },
                                {
                                    "CustomerName": "Wingtip Toys (Helotes, TX)",
                                    "CityName": "Helotes"
                                },
                                {
                                    "CustomerName": "Wingtip Toys (Herlong, CA)",
                                    "CityName": "Herlong"
                                },
                                {
                                    "CustomerName": "Wingtip Toys (Highland Home, AL)",
                                    "CityName": "Highland Home"
                                },
                                {
                                    "CustomerName": "Eva Schulteisz",
                                    "CityName": "Hightsville"
                                },
                                {
                                    "CustomerName": "Tailspin Toys (Hiteman, IA)",
                                    "CityName": "Hiteman"
                                },
                                {
                                    "CustomerName": "Tailspin Toys (Hodgdon, ME)",
                                    "CityName": "Hodgdon"
                                },
                                {
                                    "CustomerName": "Hue Ton",
                                    "CityName": "Holden Beach"
                                },
                                {
                                    "CustomerName": "Wingtip Toys (Hollandsburg, IN)",
                                    "CityName": "Hollandsburg"
                                },
                                {
                                    "CustomerName": "Tailspin Toys (Hollywood Park, TX)",
                                    "CityName": "Hollywood Park"
                                },
                                {
                                    "CustomerName": "Wingtip Toys (Homer City, PA)",
                                    "CityName": "Homer City"
                                },
                                {
                                    "CustomerName": "Tailspin Toys (Howells, NE)",
                                    "CityName": "Howells"
                                },
                                {
                                    "CustomerName": "Anna Mazzanti",
                                    "CityName": "Humansville"
                                },
                                {
                                    "CustomerName": "Wingtip Toys (Huntingburg, IN)",
                                    "CityName": "Huntingburg"
                                },
                                {
                                    "CustomerName": "Emily Whittle",
                                    "CityName": "Huntington Woods"
                                },
                                {
                                    "CustomerName": "Wingtip Toys (Idaho City, ID)",
                                    "CityName": "Idaho City"
                                },
                                {
                                    "CustomerName": "Tailspin Toys (Idria, CA)",
                                    "CityName": "Idria"
                                },
                                {
                                    "CustomerName": "Tailspin Toys (Ikatan, AK)",
                                    "CityName": "Ikatan"
                                },
                                {
                                    "CustomerName": "Dhanishta Mokkapati",
                                    "CityName": "Iliamna"
                                },
                                {
                                    "CustomerName": "Tailspin Toys (Imlaystown, NJ)",
                                    "CityName": "Imlaystown"
                                },
                                {
                                    "CustomerName": "Tailspin Toys (Impact, TX)",
                                    "CityName": "Impact"
                                },
                                {
                                    "CustomerName": "Wingtip Toys (Indian Creek, IL)",
                                    "CityName": "Indian Creek"
                                },
                                {
                                    "CustomerName": "Tailspin Toys (Indios, PR)",
                                    "CityName": "Indios"
                                },
                                {
                                    "CustomerName": "Tailspin Toys (Inguadona, MN)",
                                    "CityName": "Inguadona"
                                },
                                {
                                    "CustomerName": "Wingtip Toys (Isabela, PR)",
                                    "CityName": "Isabela"
                                },
                                {
                                    "CustomerName": "Sylvie Laramee",
                                    "CityName": "Isabela"
                                },
                                {
                                    "CustomerName": "Wingtip Toys (Islip Terrace, NY)",
                                    "CityName": "Islip Terrace"
                                },
                                {
                                    "CustomerName": "Wingtip Toys (Jamison, IA)",
                                    "CityName": "Jamison"
                                },
                                {
                                    "CustomerName": "Richard Zahradnicek",
                                    "CityName": "Jane"
                                },
                                {
                                    "CustomerName": "Tailspin Toys (Jemison, AL)",
                                    "CityName": "Jemison"
                                },
                                {
                                    "CustomerName": "Wingtip Toys (Jeromesville, OH)",
                                    "CityName": "Jeromesville"
                                },
                                {
                                    "CustomerName": "Eliza Persson",
                                    "CityName": "Jesmond Dene"
                                },
                                {
                                    "CustomerName": "Tailspin Toys (Jessie, ND)",
                                    "CityName": "Jessie"
                                },
                                {
                                    "CustomerName": "Wingtip Toys (Johnetta, KY)",
                                    "CityName": "Johnetta"
                                },
                                {
                                    "CustomerName": "Francisca Laureano",
                                    "CityName": "Jolley"
                                },
                                {
                                    "CustomerName": "Seo-yun Paik",
                                    "CityName": "Jones Creek"
                                },
                                {
                                    "CustomerName": "Tailspin Toys (Kalvesta, KS)",
                                    "CityName": "Kalvesta"
                                },
                                {
                                    "CustomerName": "Anna Gyarmathi",
                                    "CityName": "Kannapolis"
                                },
                                {
                                    "CustomerName": "Wingtip Toys (Kapa'a, HI)",
                                    "CityName": "Kapa'a"
                                },
                                {
                                    "CustomerName": "Wingtip Toys (Karthaus, PA)",
                                    "CityName": "Karthaus"
                                },
                                {
                                    "CustomerName": "Wingtip Toys (Keosauqua, IA)",
                                    "CityName": "Keosauqua"
                                },
                                {
                                    "CustomerName": "Tailspin Toys (Kerby, OR)",
                                    "CityName": "Kerby"
                                },
                                {
                                    "CustomerName": "Wingtip Toys (Key Biscayne, FL)",
                                    "CityName": "Key Biscayne"
                                },
                                {
                                    "CustomerName": "Bijoya Thakur",
                                    "CityName": "Kinder"
                                },
                                {
                                    "CustomerName": "Tailspin Toys (King Cove, AK)",
                                    "CityName": "King Cove"
                                },
                                {
                                    "CustomerName": "Tailspin Toys (Knifley, KY)",
                                    "CityName": "Knifley"
                                },
                                {
                                    "CustomerName": "Wingtip Toys (Knights Landing, CA)",
                                    "CityName": "Knights Landing"
                                },
                                {
                                    "CustomerName": "Cuneyt Arslan",
                                    "CityName": "Komalty"
                                },
                                {
                                    "CustomerName": "Tailspin Toys (Koontzville, WA)",
                                    "CityName": "Koontzville"
                                },
                                {
                                    "CustomerName": "Emil Roman",
                                    "CityName": "Kopperl"
                                },
                                {
                                    "CustomerName": "Tailspin Toys (Kwethluk, AK)",
                                    "CityName": "Kwethluk"
                                },
                                {
                                    "CustomerName": "Aleksandrs Riekstins",
                                    "CityName": "La Bolt"
                                },
                                {
                                    "CustomerName": "Tailspin Toys (La Cueva, NM)",
                                    "CityName": "La Cueva"
                                },
                                {
                                    "CustomerName": "Abel Tatarescu",
                                    "CityName": "La Grange Park"
                                },
                                {
                                    "CustomerName": "Katerina Hadrabova",
                                    "CityName": "La Paz"
                                },
                                {
                                    "CustomerName": "Bishwa Chatterjee",
                                    "CityName": "Lake Clarke Shores"
                                },
                                {
                                    "CustomerName": "Allan Mannik",
                                    "CityName": "Lake Crystal"
                                },
                                {
                                    "CustomerName": "Wingtip Toys (Lake Davis, CA)",
                                    "CityName": "Lake Davis"
                                },
                                {
                                    "CustomerName": "Tailspin Toys (Lake Erie Beach, NY)",
                                    "CityName": "Lake Erie Beach"
                                },
                                {
                                    "CustomerName": "Tailspin Toys (Lake Hughes, CA)",
                                    "CityName": "Lake Hughes"
                                },
                                {
                                    "CustomerName": "Bhaamini Palagummi",
                                    "CityName": "Lake Mohegan"
                                },
                                {
                                    "CustomerName": "Wingtip Toys (Lake Ronkonkoma, NY)",
                                    "CityName": "Lake Ronkonkoma"
                                },
                                {
                                    "CustomerName": "Tailspin Toys (Lake Stevens, WA)",
                                    "CityName": "Lake Stevens"
                                },
                                {
                                    "CustomerName": "Tailspin Toys (Lakemore, OH)",
                                    "CityName": "Lakemore"
                                },
                                {
                                    "CustomerName": "Ivana Hadrabova",
                                    "CityName": "Lancaster"
                                },
                                {
                                    "CustomerName": "Tailspin Toys (Larose, LA)",
                                    "CityName": "Larose"
                                },
                                {
                                    "CustomerName": "Durdanah Abbasi",
                                    "CityName": "Laurence Harbor"
                                },
                                {
                                    "CustomerName": "Tailspin Toys (Lavon, TX)",
                                    "CityName": "Lavon"
                                },
                                {
                                    "CustomerName": "Wingtip Toys (Leathersville, GA)",
                                    "CityName": "Leathersville"
                                },
                                {
                                    "CustomerName": "Tailspin Toys (Lemeta, AK)",
                                    "CityName": "Lemeta"
                                },
                                {
                                    "CustomerName": "Tailspin Toys (Lesslie, SC)",
                                    "CityName": "Lesslie"
                                },
                                {
                                    "CustomerName": "Wingtip Toys (Lexington Heights, MI)",
                                    "CityName": "Lexington Heights"
                                },
                                {
                                    "CustomerName": "Wingtip Toys (Liberty Grove, MD)",
                                    "CityName": "Liberty Grove"
                                },
                                {
                                    "CustomerName": "Ian Olofsson",
                                    "CityName": "Liberty Plain"
                                },
                                {
                                    "CustomerName": "Wingtip Toys (Licking, MO)",
                                    "CityName": "Licking"
                                },
                                {
                                    "CustomerName": "Wingtip Toys (Lilbourn, MO)",
                                    "CityName": "Lilbourn"
                                },
                                {
                                    "CustomerName": "Wingtip Toys (Lime Lake, NY)",
                                    "CityName": "Lime Lake"
                                },
                                {
                                    "CustomerName": "Luis Saucedo",
                                    "CityName": "Linden"
                                },
                                {
                                    "CustomerName": "Tailspin Toys (Head Office)",
                                    "CityName": "Lisco"
                                },
                                {
                                    "CustomerName": "Lakshmi Benipal",
                                    "CityName": "Lompoc"
                                },
                                {
                                    "CustomerName": "Agrita Abele",
                                    "CityName": "Long Beach"
                                },
                                {
                                    "CustomerName": "Tailspin Toys (Long Meadow, MD)",
                                    "CityName": "Long Meadow"
                                },
                                {
                                    "CustomerName": "Maksims Krastins",
                                    "CityName": "Lorentz"
                                },
                                {
                                    "CustomerName": "Wingtip Toys (Lost River, ID)",
                                    "CityName": "Lost River"
                                },
                                {
                                    "CustomerName": "Wingtip Toys (Lostine, OR)",
                                    "CityName": "Lostine"
                                },
                                {
                                    "CustomerName": "Wingtip Toys (Lowellville, OH)",
                                    "CityName": "Lowellville"
                                },
                                {
                                    "CustomerName": "Wingtip Toys (Lucasville, OH)",
                                    "CityName": "Lucasville"
                                },
                                {
                                    "CustomerName": "Om Yadav",
                                    "CityName": "Lunds"
                                },
                                {
                                    "CustomerName": "Wingtip Toys (Lynne, FL)",
                                    "CityName": "Lynne"
                                },
                                {
                                    "CustomerName": "Wingtip Toys (Lytle, TX)",
                                    "CityName": "Lytle"
                                },
                                {
                                    "CustomerName": "Tailspin Toys (Lytle Creek, CA)",
                                    "CityName": "Lytle Creek"
                                },
                                {
                                    "CustomerName": "Tailspin Toys (Madaket, MA)",
                                    "CityName": "Madaket"
                                },
                                {
                                    "CustomerName": "Knut Svensson",
                                    "CityName": "Madison Park"
                                },
                                {
                                    "CustomerName": "Tailspin Toys (Madrone, NM)",
                                    "CityName": "Madrone"
                                },
                                {
                                    "CustomerName": "Tailspin Toys (Magalia, CA)",
                                    "CityName": "Magalia"
                                },
                                {
                                    "CustomerName": "Wingtip Toys (Mahaffey, PA)",
                                    "CityName": "Mahaffey"
                                },
                                {
                                    "CustomerName": "Miriam House",
                                    "CityName": "Makoti"
                                },
                                {
                                    "CustomerName": "Tailspin Toys (Malott, WA)",
                                    "CityName": "Malott"
                                },
                                {
                                    "CustomerName": "Daniel Martensson",
                                    "CityName": "Mamou"
                                },
                                {
                                    "CustomerName": "Tailspin Toys (Manahawkin, NJ)",
                                    "CityName": "Manahawkin"
                                },
                                {
                                    "CustomerName": "Tailspin Toys (Manchester Center, VT)",
                                    "CityName": "Manchester Center"
                                },
                                {
                                    "CustomerName": "Tailspin Toys (Maple Shade, NJ)",
                                    "CityName": "Maple Shade"
                                },
                                {
                                    "CustomerName": "Tailspin Toys (Mappsburg, VA)",
                                    "CityName": "Mappsburg"
                                },
                                {
                                    "CustomerName": "Tailspin Toys (Marcell, MN)",
                                    "CityName": "Marcell"
                                },
                                {
                                    "CustomerName": "Leyla Siavashi",
                                    "CityName": "Marcella"
                                },
                                {
                                    "CustomerName": "Wingtip Toys (Marfa, TX)",
                                    "CityName": "Marfa"
                                },
                                {
                                    "CustomerName": "Marija Justina Pasek",
                                    "CityName": "Marguerite"
                                },
                                {
                                    "CustomerName": "Wingtip Toys (Marin City, CA)",
                                    "CityName": "Marin City"
                                },
                                {
                                    "CustomerName": "Laszlo Gardenier",
                                    "CityName": "Marion Hill"
                                },
                                {
                                    "CustomerName": "Wingtip Toys (Marion Junction, AL)",
                                    "CityName": "Marion Junction"
                                },
                                {
                                    "CustomerName": "Abel Spirlea",
                                    "CityName": "Markville"
                                },
                                {
                                    "CustomerName": "Nasrin Omidzadeh",
                                    "CityName": "Mary Esther"
                                },
                                {
                                    "CustomerName": "Linh Dao",
                                    "CityName": "Mashulaville"
                                },
                                {
                                    "CustomerName": "Wingtip Toys (Mauldin, SC)",
                                    "CityName": "Mauldin"
                                },
                                {
                                    "CustomerName": "Wingtip Toys (Mayhill, NM)",
                                    "CityName": "Mayhill"
                                },
                                {
                                    "CustomerName": "Tailspin Toys (Maypearl, TX)",
                                    "CityName": "Maypearl"
                                },
                                {
                                    "CustomerName": "Wingtip Toys (McAdenville, NC)",
                                    "CityName": "McAdenville"
                                },
                                {
                                    "CustomerName": "Phoung Cu",
                                    "CityName": "McCall"
                                },
                                {
                                    "CustomerName": "Tailspin Toys (McCamey, TX)",
                                    "CityName": "McCamey"
                                },
                                {
                                    "CustomerName": "Edmee Glissen",
                                    "CityName": "McCammon"
                                },
                                {
                                    "CustomerName": "Tailspin Toys (McClave, CO)",
                                    "CityName": "McClave"
                                },
                                {
                                    "CustomerName": "Radha Barua",
                                    "CityName": "McQueen"
                                },
                                {
                                    "CustomerName": "In-Su Bae",
                                    "CityName": "Meadowdale"
                                },
                                {
                                    "CustomerName": "Hanita Nookala",
                                    "CityName": "Meaux"
                                },
                                {
                                    "CustomerName": "Tailspin Toys (Medicine Lodge, KS)",
                                    "CityName": "Medicine Lodge"
                                },
                                {
                                    "CustomerName": "Wingtip Toys (Mendoza, TX)",
                                    "CityName": "Mendoza"
                                },
                                {
                                    "CustomerName": "Wingtip Toys (Mickleton, NJ)",
                                    "CityName": "Mickleton"
                                },
                                {
                                    "CustomerName": "Kumar Kamei",
                                    "CityName": "Middleway"
                                },
                                {
                                    "CustomerName": "Anand Mudaliyar",
                                    "CityName": "Midland"
                                },
                                {
                                    "CustomerName": "Wingtip Toys (Mier, IN)",
                                    "CityName": "Mier"
                                },
                                {
                                    "CustomerName": "Wingtip Toys (Miesville, MN)",
                                    "CityName": "Miesville"
                                },
                                {
                                    "CustomerName": "Tailspin Toys (Mineral Hills, MI)",
                                    "CityName": "Mineral Hills"
                                },
                                {
                                    "CustomerName": "Tailspin Toys (Minidoka, ID)",
                                    "CityName": "Minidoka"
                                },
                                {
                                    "CustomerName": "Wingtip Toys (Molalla, OR)",
                                    "CityName": "Molalla"
                                },
                                {
                                    "CustomerName": "Wingtip Toys (Montoya, NM)",
                                    "CityName": "Montoya"
                                },
                                {
                                    "CustomerName": "Wingtip Toys (Mooringsport, LA)",
                                    "CityName": "Mooringsport"
                                },
                                {
                                    "CustomerName": "Hana Hlouskova",
                                    "CityName": "Moquino"
                                },
                                {
                                    "CustomerName": "Wingtip Toys (Morita, TX)",
                                    "CityName": "Morita"
                                },
                                {
                                    "CustomerName": "Som Mukherjee",
                                    "CityName": "Moroni"
                                },
                                {
                                    "CustomerName": "Wingtip Toys (Morrison Bluff, AR)",
                                    "CityName": "Morrison Bluff"
                                },
                                {
                                    "CustomerName": "Wingtip Toys (Morton Grove, IL)",
                                    "CityName": "Morton Grove"
                                },
                                {
                                    "CustomerName": "Tailspin Toys (Mount Montgomery, NV)",
                                    "CityName": "Mount Montgomery"
                                },
                                {
                                    "CustomerName": "Jay Bhuiyan",
                                    "CityName": "Mount Pocono"
                                },
                                {
                                    "CustomerName": "Wingtip Toys (Mount Summit, IN)",
                                    "CityName": "Mount Summit"
                                },
                                {
                                    "CustomerName": "Tailspin Toys (Muir, MI)",
                                    "CityName": "Muir"
                                },
                                {
                                    "CustomerName": "Wingtip Toys (Munich, ND)",
                                    "CityName": "Munich"
                                },
                                {
                                    "CustomerName": "Wingtip Toys (Naches, WA)",
                                    "CityName": "Naches"
                                },
                                {
                                    "CustomerName": "Ioana Florea",
                                    "CityName": "Nahant"
                                },
                                {
                                    "CustomerName": "Tailspin Toys (Nanafalia, AL)",
                                    "CityName": "Nanafalia"
                                },
                                {
                                    "CustomerName": "Tailspin Toys (Naples Park, FL)",
                                    "CityName": "Naples Park"
                                },
                                {
                                    "CustomerName": "Tailspin Toys (Navassa, NC)",
                                    "CityName": "Navassa"
                                },
                                {
                                    "CustomerName": "Wingtip Toys (Necedah, WI)",
                                    "CityName": "Necedah"
                                },
                                {
                                    "CustomerName": "Pinja Jantunen",
                                    "CityName": "Nehawka"
                                },
                                {
                                    "CustomerName": "Chandana Shasthri",
                                    "CityName": "Nesmith"
                                },
                                {
                                    "CustomerName": "Tailspin Toys (Netcong, NJ)",
                                    "CityName": "Netcong"
                                },
                                {
                                    "CustomerName": "Tailspin Toys (New Baden, IL)",
                                    "CityName": "New Baden"
                                },
                                {
                                    "CustomerName": "Pavel Bogdanov",
                                    "CityName": "New Braintree"
                                },
                                {
                                    "CustomerName": "Wingtip Toys (New Laguna, NM)",
                                    "CityName": "New Laguna"
                                },
                                {
                                    "CustomerName": "Tailspin Toys (New Lexington, OH)",
                                    "CityName": "New Lexington"
                                },
                                {
                                    "CustomerName": "Chandrashekhar Dasgupta",
                                    "CityName": "New Plymouth"
                                },
                                {
                                    "CustomerName": "Emilie Hrdlickova",
                                    "CityName": "New Zion"
                                },
                                {
                                    "CustomerName": "Irma Berzina",
                                    "CityName": "Newberg"
                                },
                                {
                                    "CustomerName": "Hee-Young Suh",
                                    "CityName": "Nicasio"
                                },
                                {
                                    "CustomerName": "Wingtip Toys (Nichols Hills, OK)",
                                    "CityName": "Nichols Hills"
                                },
                                {
                                    "CustomerName": "Matteo Cattaneo",
                                    "CityName": "Nicholson"
                                },
                                {
                                    "CustomerName": "Santiago Vera",
                                    "CityName": "Nitro"
                                },
                                {
                                    "CustomerName": "Wingtip Toys (North Beach Haven, NJ)",
                                    "CityName": "North Beach Haven"
                                },
                                {
                                    "CustomerName": "Amarasimha Vinjamuri",
                                    "CityName": "North Brookfield"
                                },
                                {
                                    "CustomerName": "Tailspin Toys (North Cowden, TX)",
                                    "CityName": "North Cowden"
                                },
                                {
                                    "CustomerName": "Tailspin Toys (North Crows Nest, IN)",
                                    "CityName": "North Crows Nest"
                                },
                                {
                                    "CustomerName": "Richard Friar",
                                    "CityName": "North Eastham"
                                },
                                {
                                    "CustomerName": "Mauno Laurila",
                                    "CityName": "North Eaton"
                                },
                                {
                                    "CustomerName": "Wingtip Toys (North Manitou, MI)",
                                    "CityName": "North Manitou"
                                },
                                {
                                    "CustomerName": "Sumati Chatterjee",
                                    "CityName": "North Muskegon"
                                },
                                {
                                    "CustomerName": "Tailspin Toys (North Ridge, NY)",
                                    "CityName": "North Ridge"
                                },
                                {
                                    "CustomerName": "Nada Jovanovic",
                                    "CityName": "North York"
                                },
                                {
                                    "CustomerName": "Ivan Sepulveda",
                                    "CityName": "Northrop"
                                },
                                {
                                    "CustomerName": "Wingtip Toys (Nuangola, PA)",
                                    "CityName": "Nuangola"
                                },
                                {
                                    "CustomerName": "Wingtip Toys (Oak Point, TX)",
                                    "CityName": "Oak Point"
                                },
                                {
                                    "CustomerName": "Liidia Lepp",
                                    "CityName": "Oakpark"
                                },
                                {
                                    "CustomerName": "Taj Syme",
                                    "CityName": "Oakshade"
                                },
                                {
                                    "CustomerName": "Wingtip Toys (Obetz, OH)",
                                    "CityName": "Obetz"
                                },
                                {
                                    "CustomerName": "Wingtip Toys (Obion, TN)",
                                    "CityName": "Obion"
                                },
                                {
                                    "CustomerName": "Kumar Naicker",
                                    "CityName": "Oconto Falls"
                                },
                                {
                                    "CustomerName": "Surendra Sahu",
                                    "CityName": "Old River-Winfree"
                                },
                                {
                                    "CustomerName": "Can ozcan",
                                    "CityName": "Oley"
                                },
                                {
                                    "CustomerName": "Tailspin Toys (Olivette, MO)",
                                    "CityName": "Olivette"
                                },
                                {
                                    "CustomerName": "Wingtip Toys (Omer, MI)",
                                    "CityName": "Omer"
                                },
                                {
                                    "CustomerName": "Wingtip Toys (Oologah, OK)",
                                    "CityName": "Oologah"
                                },
                                {
                                    "CustomerName": "Tailspin Toys (Optimo, NM)",
                                    "CityName": "Optimo"
                                },
                                {
                                    "CustomerName": "Tailspin Toys (Orchard Hill, GA)",
                                    "CityName": "Orchard Hill"
                                },
                                {
                                    "CustomerName": "Wingtip Toys (Head Office)",
                                    "CityName": "Orchard Mesa"
                                },
                                {
                                    "CustomerName": "Wingtip Toys (Orick, CA)",
                                    "CityName": "Orick"
                                },
                                {
                                    "CustomerName": "Tailspin Toys (Oriole Beach, FL)",
                                    "CityName": "Oriole Beach"
                                },
                                {
                                    "CustomerName": "Ganesh Majumdar",
                                    "CityName": "Orland Hills"
                                },
                                {
                                    "CustomerName": "Gopalgobinda Sikdar",
                                    "CityName": "Orpha"
                                },
                                {
                                    "CustomerName": "Tailspin Toys (Orrtanna, PA)",
                                    "CityName": "Orrtanna"
                                },
                                {
                                    "CustomerName": "Tailspin Toys (Ortley Beach, NJ)",
                                    "CityName": "Ortley Beach"
                                },
                                {
                                    "CustomerName": "Tuulikki Linna",
                                    "CityName": "Otterville"
                                },
                                {
                                    "CustomerName": "Geza Roman",
                                    "CityName": "Oval"
                                },
                                {
                                    "CustomerName": "Wingtip Toys (Ovilla, TX)",
                                    "CityName": "Ovilla"
                                },
                                {
                                    "CustomerName": "Tailspin Toys (Page City, KS)",
                                    "CityName": "Page City"
                                },
                                {
                                    "CustomerName": "Cong Hoa",
                                    "CityName": "Palatine Bridge"
                                },
                                {
                                    "CustomerName": "Wingtip Toys (Palmas del Mar, PR)",
                                    "CityName": "Palmas del Mar"
                                },
                                {
                                    "CustomerName": "Amrita Ganguly",
                                    "CityName": "Palmas del Mar"
                                },
                                {
                                    "CustomerName": "Tailspin Toys (Panaca, NV)",
                                    "CityName": "Panaca"
                                },
                                {
                                    "CustomerName": "Madhu Dwivedi",
                                    "CityName": "Panton"
                                },
                                {
                                    "CustomerName": "Mahavir Sonkar",
                                    "CityName": "Pastura"
                                },
                                {
                                    "CustomerName": "Wingtip Toys (Paw Paw Lake, MI)",
                                    "CityName": "Paw Paw Lake"
                                },
                                {
                                    "CustomerName": "Wingtip Toys (Pawlet, VT)",
                                    "CityName": "Pawlet"
                                },
                                {
                                    "CustomerName": "Tailspin Toys (Peeples Valley, AZ)",
                                    "CityName": "Peeples Valley"
                                },
                                {
                                    "CustomerName": "Wingtip Toys (Penns Creek, PA)",
                                    "CityName": "Penns Creek"
                                },
                                {
                                    "CustomerName": "Johanna Hoornstra",
                                    "CityName": "Petronila"
                                },
                                {
                                    "CustomerName": "Valentin Tirlea",
                                    "CityName": "Pharr"
                                },
                                {
                                    "CustomerName": "Staffan Persson",
                                    "CityName": "Phelps City"
                                },
                                {
                                    "CustomerName": "Wingtip Toys (Philip, SD)",
                                    "CityName": "Philip"
                                },
                                {
                                    "CustomerName": "Wingtip Toys (Pikeview, CO)",
                                    "CityName": "Pikeview"
                                },
                                {
                                    "CustomerName": "Tailspin Toys (Placer, OR)",
                                    "CityName": "Placer"
                                },
                                {
                                    "CustomerName": "Wingtip Toys (Plaquemine, LA)",
                                    "CityName": "Plaquemine"
                                },
                                {
                                    "CustomerName": "Wingtip Toys (Plata, TX)",
                                    "CityName": "Plata"
                                },
                                {
                                    "CustomerName": "Wingtip Toys (Plum Branch, SC)",
                                    "CityName": "Plum Branch"
                                },
                                {
                                    "CustomerName": "Tailspin Toys (Point Roberts, WA)",
                                    "CityName": "Point Roberts"
                                },
                                {
                                    "CustomerName": "Lorin Astrom",
                                    "CityName": "Port Alto"
                                },
                                {
                                    "CustomerName": "Vladimir Henzl",
                                    "CityName": "Port Chilkoot"
                                },
                                {
                                    "CustomerName": "Wingtip Toys (Port Hueneme, CA)",
                                    "CityName": "Port Hueneme"
                                },
                                {
                                    "CustomerName": "Wingtip Toys (Portales, NM)",
                                    "CityName": "Portales"
                                },
                                {
                                    "CustomerName": "Tailspin Toys (Premont, TX)",
                                    "CityName": "Premont"
                                },
                                {
                                    "CustomerName": "Baalaamjali Devulapalli",
                                    "CityName": "Puerto de Luna"
                                },
                                {
                                    "CustomerName": "Wingtip Toys (Queen Valley, AZ)",
                                    "CityName": "Queen Valley"
                                },
                                {
                                    "CustomerName": "Tailspin Toys (Rafael Capó, PR)",
                                    "CityName": "Rafael Capó"
                                },
                                {
                                    "CustomerName": "Jackson Kolios",
                                    "CityName": "Rail Road Flat"
                                },
                                {
                                    "CustomerName": "Tailspin Toys (Railroad, PA)",
                                    "CityName": "Railroad"
                                },
                                {
                                    "CustomerName": "Wingtip Toys (Raton, NM)",
                                    "CityName": "Raton"
                                },
                                {
                                    "CustomerName": "Jayanta Thakur",
                                    "CityName": "Raven"
                                },
                                {
                                    "CustomerName": "Daniella Cavalcante",
                                    "CityName": "Ravia"
                                },
                                {
                                    "CustomerName": "Vedrana Kovacevic",
                                    "CityName": "Reader"
                                },
                                {
                                    "CustomerName": "Nhung Thach",
                                    "CityName": "Red Mesa"
                                },
                                {
                                    "CustomerName": "Wingtip Toys (Rich Creek, VA)",
                                    "CityName": "Rich Creek"
                                },
                                {
                                    "CustomerName": "Serdar ozden",
                                    "CityName": "Richland"
                                },
                                {
                                    "CustomerName": "Wingtip Toys (Ridgemark, CA)",
                                    "CityName": "Ridgemark"
                                },
                                {
                                    "CustomerName": "David Jaramillo",
                                    "CityName": "Ridgeway"
                                },
                                {
                                    "CustomerName": "Chaayaadaevi Sonti",
                                    "CityName": "Roachtown"
                                },
                                {
                                    "CustomerName": "Adriana Pena",
                                    "CityName": "Roberta Mill"
                                },
                                {
                                    "CustomerName": "Maryann Huddleston",
                                    "CityName": "Robertsburg"
                                },
                                {
                                    "CustomerName": "Wingtip Toys (Robertsdale, AL)",
                                    "CityName": "Robertsdale"
                                },
                                {
                                    "CustomerName": "Wingtip Toys (Rockwall, TX)",
                                    "CityName": "Rockwall"
                                },
                                {
                                    "CustomerName": "Tailspin Toys (Rockwall, TX)",
                                    "CityName": "Rockwall"
                                },
                                {
                                    "CustomerName": "Tailspin Toys (Roe Park, NY)",
                                    "CityName": "Roe Park"
                                },
                                {
                                    "CustomerName": "Emma Salpa",
                                    "CityName": "Rogersville"
                                },
                                {
                                    "CustomerName": "Wingtip Toys (Rosa Sánchez, PR)",
                                    "CityName": "Rosa Sánchez"
                                },
                                {
                                    "CustomerName": "Wingtip Toys (Rose Tree, PA)",
                                    "CityName": "Rose Tree"
                                },
                                {
                                    "CustomerName": "Tailspin Toys (Rothsville, PA)",
                                    "CityName": "Rothsville"
                                },
                                {
                                    "CustomerName": "Tailspin Toys (Royal City, WA)",
                                    "CityName": "Royal City"
                                },
                                {
                                    "CustomerName": "Wingtip Toys (Ruthsburg, MD)",
                                    "CityName": "Ruthsburg"
                                },
                                {
                                    "CustomerName": "Neil Farrelly",
                                    "CityName": "Sabinsville"
                                },
                                {
                                    "CustomerName": "Wingtip Toys (Saint Landry, LA)",
                                    "CityName": "Saint Landry"
                                },
                                {
                                    "CustomerName": "Tailspin Toys (Saint Louis Park, MN)",
                                    "CityName": "Saint Louis Park"
                                },
                                {
                                    "CustomerName": "Tailspin Toys (Saks, AL)",
                                    "CityName": "Saks"
                                },
                                {
                                    "CustomerName": "Tailspin Toys (Sallyards, KS)",
                                    "CityName": "Sallyards"
                                },
                                {
                                    "CustomerName": "Wingtip Toys (Salt Wells, NV)",
                                    "CityName": "Salt Wells"
                                },
                                {
                                    "CustomerName": "Tailspin Toys (San Acacia, NM)",
                                    "CityName": "San Acacia"
                                },
                                {
                                    "CustomerName": "Wingtip Toys (San Jacinto, CA)",
                                    "CityName": "San Jacinto"
                                },
                                {
                                    "CustomerName": "Taneli Riutta",
                                    "CityName": "Sandy Level"
                                },
                                {
                                    "CustomerName": "Tailspin Toys (Sans Souci, SC)",
                                    "CityName": "Sans Souci"
                                },
                                {
                                    "CustomerName": "Wingtip Toys (Sarversville, PA)",
                                    "CityName": "Sarversville"
                                },
                                {
                                    "CustomerName": "Tailspin Toys (Sauquoit, NY)",
                                    "CityName": "Sauquoit"
                                },
                                {
                                    "CustomerName": "Isa Hulsegge",
                                    "CityName": "Saxapahaw"
                                },
                                {
                                    "CustomerName": "Wingtip Toys (Sayner, WI)",
                                    "CityName": "Sayner"
                                },
                                {
                                    "CustomerName": "Akhil Nadar",
                                    "CityName": "Schaal"
                                },
                                {
                                    "CustomerName": "Wingtip Toys (Schererville, IN)",
                                    "CityName": "Schererville"
                                },
                                {
                                    "CustomerName": "Nicolo Cattaneo",
                                    "CityName": "Schoharie"
                                },
                                {
                                    "CustomerName": "Dipti Shah",
                                    "CityName": "Scioto Furnace"
                                },
                                {
                                    "CustomerName": "Tailspin Toys (Scofield, UT)",
                                    "CityName": "Scofield"
                                },
                                {
                                    "CustomerName": "Damodar Shenoy",
                                    "CityName": "Scott"
                                },
                                {
                                    "CustomerName": "Alinne Matos",
                                    "CityName": "Sea Island"
                                },
                                {
                                    "CustomerName": "Tailspin Toys (Seagraves, TX)",
                                    "CityName": "Seagraves"
                                },
                                {
                                    "CustomerName": "Alena Kellnerova",
                                    "CityName": "Segundo"
                                },
                                {
                                    "CustomerName": "Ebru Erdogan",
                                    "CityName": "Seiling"
                                },
                                {
                                    "CustomerName": "Tailspin Toys (Sekiu, WA)",
                                    "CityName": "Sekiu"
                                },
                                {
                                    "CustomerName": "Tailspin Toys (Sentinel Butte, ND)",
                                    "CityName": "Sentinel Butte"
                                },
                                {
                                    "CustomerName": "Tailspin Toys (Severna Park, MD)",
                                    "CityName": "Severna Park"
                                },
                                {
                                    "CustomerName": "Eugen Agafitei",
                                    "CityName": "Shawboro"
                                },
                                {
                                    "CustomerName": "Wingtip Toys (Shay, PA)",
                                    "CityName": "Shay"
                                },
                                {
                                    "CustomerName": "Eric Torres",
                                    "CityName": "Shell"
                                },
                                {
                                    "CustomerName": "Gasper Havzija",
                                    "CityName": "Shell Knob"
                                },
                                {
                                    "CustomerName": "Gayatri Gajula",
                                    "CityName": "Shenorock"
                                },
                                {
                                    "CustomerName": "Olafs Rozitis",
                                    "CityName": "Sherwin"
                                },
                                {
                                    "CustomerName": "Jaroslav Fisar",
                                    "CityName": "Sigel"
                                },
                                {
                                    "CustomerName": "Wingtip Toys (Silver Plume, CO)",
                                    "CityName": "Silver Plume"
                                },
                                {
                                    "CustomerName": "Shi Tu",
                                    "CityName": "Sinclair"
                                },
                                {
                                    "CustomerName": "Tailspin Toys (Sinclair, WY)",
                                    "CityName": "Sinclair"
                                },
                                {
                                    "CustomerName": "Tailspin Toys (Skyway, WA)",
                                    "CityName": "Skyway"
                                },
                                {
                                    "CustomerName": "Tailspin Toys (Slanesville, WV)",
                                    "CityName": "Slanesville"
                                },
                                {
                                    "CustomerName": "Wingtip Toys (Smoot, WY)",
                                    "CityName": "Smoot"
                                },
                                {
                                    "CustomerName": "Pari Hosseini",
                                    "CityName": "Soham"
                                },
                                {
                                    "CustomerName": "Tailspin Toys (South Euclid, OH)",
                                    "CityName": "South Euclid"
                                },
                                {
                                    "CustomerName": "Tailspin Toys (South La Paloma, TX)",
                                    "CityName": "South La Paloma"
                                },
                                {
                                    "CustomerName": "Tailspin Toys (South Laguna, CA)",
                                    "CityName": "South Laguna"
                                },
                                {
                                    "CustomerName": "Manca Hrastovsek",
                                    "CityName": "Southside"
                                },
                                {
                                    "CustomerName": "Leila Carvalho",
                                    "CityName": "Spillertown"
                                },
                                {
                                    "CustomerName": "Daakshaayaani Sankaramanchi",
                                    "CityName": "Spillville"
                                },
                                {
                                    "CustomerName": "Fabrice Cloutier",
                                    "CityName": "Staley"
                                },
                                {
                                    "CustomerName": "Tailspin Toys (Stallion Springs, CA)",
                                    "CityName": "Stallion Springs"
                                },
                                {
                                    "CustomerName": "Wingtip Toys (Stanardsville, VA)",
                                    "CityName": "Stanardsville"
                                },
                                {
                                    "CustomerName": "Tailspin Toys (Statenville, GA)",
                                    "CityName": "Statenville"
                                },
                                {
                                    "CustomerName": "Wingtip Toys (Stoneboro, PA)",
                                    "CityName": "Stoneboro"
                                },
                                {
                                    "CustomerName": "Tailspin Toys (Stonefort, IL)",
                                    "CityName": "Stonefort"
                                },
                                {
                                    "CustomerName": "Wingtip Toys (Straughn, IN)",
                                    "CityName": "Straughn"
                                },
                                {
                                    "CustomerName": "Tailspin Toys (Sun River, MT)",
                                    "CityName": "Sun River"
                                },
                                {
                                    "CustomerName": "Wingtip Toys (Sunburg, MN)",
                                    "CityName": "Sunburg"
                                },
                                {
                                    "CustomerName": "Anindya Ghatak",
                                    "CityName": "Switz City"
                                },
                                {
                                    "CustomerName": "Tailspin Toys (Sylvanite, MT)",
                                    "CityName": "Sylvanite"
                                },
                                {
                                    "CustomerName": "Wingtip Toys (Taft Heights, CA)",
                                    "CityName": "Taft Heights"
                                },
                                {
                                    "CustomerName": "Crina Grasu",
                                    "CityName": "Tamora"
                                },
                                {
                                    "CustomerName": "Damodara Trivedi",
                                    "CityName": "Tarzan"
                                },
                                {
                                    "CustomerName": "Tailspin Toys (Tavares, FL)",
                                    "CityName": "Tavares"
                                },
                                {
                                    "CustomerName": "Wingtip Toys (Tea, SD)",
                                    "CityName": "Tea"
                                },
                                {
                                    "CustomerName": "Ludmila Smidova",
                                    "CityName": "Tempe"
                                },
                                {
                                    "CustomerName": "Shyam Poddar",
                                    "CityName": "Tenstrike"
                                },
                                {
                                    "CustomerName": "Bala Dixit",
                                    "CityName": "Termo"
                                },
                                {
                                    "CustomerName": "Tailspin Toys (Terre du Lac, MO)",
                                    "CityName": "Terre du Lac"
                                },
                                {
                                    "CustomerName": "Wingtip Toys (Teutopolis, IL)",
                                    "CityName": "Teutopolis"
                                },
                                {
                                    "CustomerName": "Tailspin Toys (Teutopolis, IL)",
                                    "CityName": "Teutopolis"
                                },
                                {
                                    "CustomerName": "Kamila Michnova",
                                    "CityName": "The Colony"
                                },
                                {
                                    "CustomerName": "Tailspin Toys (Tierra Verde, FL)",
                                    "CityName": "Tierra Verde"
                                },
                                {
                                    "CustomerName": "Suparna Bhattacharya",
                                    "CityName": "Tiff City"
                                },
                                {
                                    "CustomerName": "Wingtip Toys (Tilleda, WI)",
                                    "CityName": "Tilleda"
                                },
                                {
                                    "CustomerName": "Darshana Madhunapantula",
                                    "CityName": "Tolchester Beach"
                                },
                                {
                                    "CustomerName": "Tailspin Toys (Tolna, ND)",
                                    "CityName": "Tolna"
                                },
                                {
                                    "CustomerName": "Sercan Celik",
                                    "CityName": "Tolono"
                                },
                                {
                                    "CustomerName": "Tailspin Toys (Tomnolen, MS)",
                                    "CityName": "Tomnolen"
                                },
                                {
                                    "CustomerName": "Tailspin Toys (Tooele, UT)",
                                    "CityName": "Tooele"
                                },
                                {
                                    "CustomerName": "Tailspin Toys (Topstone, CT)",
                                    "CityName": "Topstone"
                                },
                                {
                                    "CustomerName": "David safranek",
                                    "CityName": "Toughkenamon"
                                },
                                {
                                    "CustomerName": "Wingtip Toys (Towaco, NJ)",
                                    "CityName": "Towaco"
                                },
                                {
                                    "CustomerName": "Tomo Vidovic",
                                    "CityName": "Tremont"
                                },
                                {
                                    "CustomerName": "Tailspin Toys (Trentwood, WA)",
                                    "CityName": "Trentwood"
                                },
                                {
                                    "CustomerName": "Tailspin Toys (Tresckow, PA)",
                                    "CityName": "Tresckow"
                                },
                                {
                                    "CustomerName": "Wingtip Toys (Triadelphia, WV)",
                                    "CityName": "Triadelphia"
                                },
                                {
                                    "CustomerName": "Ingrida Zeltina",
                                    "CityName": "Trilby"
                                },
                                {
                                    "CustomerName": "Wingtip Toys (Trout Run, PA)",
                                    "CityName": "Trout Run"
                                },
                                {
                                    "CustomerName": "Wingtip Toys (Trumansburg, NY)",
                                    "CityName": "Trumansburg"
                                },
                                {
                                    "CustomerName": "Wingtip Toys (Truscott, TX)",
                                    "CityName": "Truscott"
                                },
                                {
                                    "CustomerName": "Prabodh Nair",
                                    "CityName": "Tschetter Colony"
                                },
                                {
                                    "CustomerName": "Tailspin Toys (Tumacacori, AZ)",
                                    "CityName": "Tumacacori"
                                },
                                {
                                    "CustomerName": "Tailspin Toys (Tunnelhill, PA)",
                                    "CityName": "Tunnelhill"
                                },
                                {
                                    "CustomerName": "Wingtip Toys (Tuscaloosa, AL)",
                                    "CityName": "Tuscaloosa"
                                },
                                {
                                    "CustomerName": "Dominic Davignon",
                                    "CityName": "Twin Peaks"
                                },
                                {
                                    "CustomerName": "Isidora Morales",
                                    "CityName": "Twodot"
                                },
                                {
                                    "CustomerName": "Wingtip Toys (Universal City, TX)",
                                    "CityName": "Universal City"
                                },
                                {
                                    "CustomerName": "Tailspin Toys (Upper Preston, WA)",
                                    "CityName": "Upper Preston"
                                },
                                {
                                    "CustomerName": "Wingtip Toys (Vair, TX)",
                                    "CityName": "Vair"
                                },
                                {
                                    "CustomerName": "Tailspin Toys (Valdese, NC)",
                                    "CityName": "Valdese"
                                },
                                {
                                    "CustomerName": "Wingtip Toys (Valhalla, NC)",
                                    "CityName": "Valhalla"
                                },
                                {
                                    "CustomerName": "Malorie Bousquet",
                                    "CityName": "Valley View Park"
                                },
                                {
                                    "CustomerName": "Wingtip Toys (Vamo, FL)",
                                    "CityName": "Vamo"
                                },
                                {
                                    "CustomerName": "Libuse Kuchtova",
                                    "CityName": "Van Alstyne"
                                },
                                {
                                    "CustomerName": "Tailspin Toys (Vassalboro, ME)",
                                    "CityName": "Vassalboro"
                                },
                                {
                                    "CustomerName": "Svetlana Todorovic",
                                    "CityName": "Venersborg"
                                },
                                {
                                    "CustomerName": "Wingtip Toys (Verdery, SC)",
                                    "CityName": "Verdery"
                                },
                                {
                                    "CustomerName": "Tailspin Toys (Victory Gardens, NJ)",
                                    "CityName": "Victory Gardens"
                                },
                                {
                                    "CustomerName": "Tailspin Toys (Vidrine, LA)",
                                    "CityName": "Vidrine"
                                },
                                {
                                    "CustomerName": "Aive Petrov",
                                    "CityName": "Virgil"
                                },
                                {
                                    "CustomerName": "Amarakumaar Gadiyaram",
                                    "CityName": "Vollmar"
                                },
                                {
                                    "CustomerName": "Philip Walker",
                                    "CityName": "Waite Hill"
                                },
                                {
                                    "CustomerName": "Yves Belisle",
                                    "CityName": "Walapai"
                                },
                                {
                                    "CustomerName": "Abhra Ganguly",
                                    "CityName": "Walker Valley"
                                },
                                {
                                    "CustomerName": "Tailspin Toys (Wallagrass, ME)",
                                    "CityName": "Wallagrass"
                                },
                                {
                                    "CustomerName": "Gunnar Lohmus",
                                    "CityName": "Wanaque"
                                },
                                {
                                    "CustomerName": "Wingtip Toys (Wapinitia, OR)",
                                    "CityName": "Wapinitia"
                                },
                                {
                                    "CustomerName": "Wingtip Toys (Wapiti, WY)",
                                    "CityName": "Wapiti"
                                },
                                {
                                    "CustomerName": "Tailspin Toys (Wappingers Falls, NY)",
                                    "CityName": "Wappingers Falls"
                                },
                                {
                                    "CustomerName": "Tailspin Toys (Ward Ridge, FL)",
                                    "CityName": "Ward Ridge"
                                },
                                {
                                    "CustomerName": "Wingtip Toys (Ware Shoals, SC)",
                                    "CityName": "Ware Shoals"
                                },
                                {
                                    "CustomerName": "Rajeev Sandhu",
                                    "CityName": "Wasco"
                                },
                                {
                                    "CustomerName": "Be Trang",
                                    "CityName": "Watonga"
                                },
                                {
                                    "CustomerName": "Wingtip Toys (Waycross, GA)",
                                    "CityName": "Waycross"
                                },
                                {
                                    "CustomerName": "Jana Fialova",
                                    "CityName": "Weigelstown"
                                },
                                {
                                    "CustomerName": "Wingtip Toys (Weld, ME)",
                                    "CityName": "Weld"
                                },
                                {
                                    "CustomerName": "Bhadram Kamasamudram",
                                    "CityName": "Wells"
                                },
                                {
                                    "CustomerName": "Drishti Bose",
                                    "CityName": "Wesson"
                                },
                                {
                                    "CustomerName": "Leyla Asef zade",
                                    "CityName": "West Elkton"
                                },
                                {
                                    "CustomerName": "Wingtip Toys (West Frostproof, FL)",
                                    "CityName": "West Frostproof"
                                },
                                {
                                    "CustomerName": "Wingtip Toys (West Hempstead, NY)",
                                    "CityName": "West Hempstead"
                                },
                                {
                                    "CustomerName": "Devraj Rao",
                                    "CityName": "Westwater"
                                },
                                {
                                    "CustomerName": "Wingtip Toys (White Church, MO)",
                                    "CityName": "White Church"
                                },
                                {
                                    "CustomerName": "Hoc Tran",
                                    "CityName": "White Horse Beach"
                                },
                                {
                                    "CustomerName": "Tailspin Toys (Wilkes-Barre, PA)",
                                    "CityName": "Wilkes-Barre"
                                },
                                {
                                    "CustomerName": "Wingtip Toys (Willow Valley, AZ)",
                                    "CityName": "Willow Valley"
                                },
                                {
                                    "CustomerName": "Tailspin Toys (Wimbledon, ND)",
                                    "CityName": "Wimbledon"
                                },
                                {
                                    "CustomerName": "Tailspin Toys (Windsor Locks, CT)",
                                    "CityName": "Windsor Locks"
                                },
                                {
                                    "CustomerName": "Kristiina Ivanov",
                                    "CityName": "Wounded Knee"
                                },
                                {
                                    "CustomerName": "Magdalena Michnova",
                                    "CityName": "Wrangell"
                                },
                                {
                                    "CustomerName": "Emma Van Zant",
                                    "CityName": "Wray"
                                },
                                {
                                    "CustomerName": "Manjunatha Karnik",
                                    "CityName": "Wright City"
                                },
                                {
                                    "CustomerName": "Volkan senturk",
                                    "CityName": "Wyndham"
                                },
                                {
                                    "CustomerName": "Wingtip Toys (Yaak, MT)",
                                    "CityName": "Yaak"
                                },
                                {
                                    "CustomerName": "Amet Shergill",
                                    "CityName": "Yampa"
                                },
                                {
                                    "CustomerName": "Kristi Part",
                                    "CityName": "Yerington"
                                },
                                {
                                    "CustomerName": "Bimla PrabhupÄda",
                                    "CityName": "Yermo"
                                },
                                {
                                    "CustomerName": "Tailspin Toys (Yewed, OK)",
                                    "CityName": "Yewed"
                                },
                                {
                                    "CustomerName": "Milinka Zujovic",
                                    "CityName": "Zurich"
                                }
                            ]
                        },
                        "text/html": [
                            "<table>",
                            "<tr><th>CustomerName</th><th>CityName</th></tr>",
                            "<tr><td>Camille Authier</td><td>Abbottsburg</td></tr>",
                            "<tr><td>Tailspin Toys (Absecon, NJ)</td><td>Absecon</td></tr>",
                            "<tr><td>Wingtip Toys (Accomac, VA)</td><td>Accomac</td></tr>",
                            "<tr><td>Tailspin Toys (Aceitunas, PR)</td><td>Aceitunas</td></tr>",
                            "<tr><td>Tailspin Toys (Airport Drive, MO)</td><td>Airport Drive</td></tr>",
                            "<tr><td>Wingtip Toys (Akhiok, AK)</td><td>Akhiok</td></tr>",
                            "<tr><td>Caterina Pinto</td><td>Akhiok</td></tr>",
                            "<tr><td>Wingtip Toys (Alcester, SD)</td><td>Alcester</td></tr>",
                            "<tr><td>Bahaar Asef zade</td><td>Alden Bridge</td></tr>",
                            "<tr><td>Tailspin Toys (Alstead, NH)</td><td>Alstead</td></tr>",
                            "<tr><td>Wingtip Toys (Amado, AZ)</td><td>Amado</td></tr>",
                            "<tr><td>Tailspin Toys (Amanda Park, WA)</td><td>Amanda Park</td></tr>",
                            "<tr><td>Tailspin Toys (Andrix, CO)</td><td>Andrix</td></tr>",
                            "<tr><td>Tailspin Toys (Annamoriah, WV)</td><td>Annamoriah</td></tr>",
                            "<tr><td>Tailspin Toys (Antares, AZ)</td><td>Antares</td></tr>",
                            "<tr><td>Tailspin Toys (Antonito, CO)</td><td>Antonito</td></tr>",
                            "<tr><td>Tailspin Toys (Arbor Vitae, WI)</td><td>Arbor Vitae</td></tr>",
                            "<tr><td>Sointu Savonheimo</td><td>Argusville</td></tr>",
                            "<tr><td>Tailspin Toys (Arietta, NY)</td><td>Arietta</td></tr>",
                            "<tr><td>Tailspin Toys (Armstrong Creek, WI)</td><td>Armstrong Creek</td></tr>",
                            "<tr><td>Tailspin Toys (Arrow Rock, MO)</td><td>Arrow Rock</td></tr>",
                            "<tr><td>Anca Gogean</td><td>Arrowbear Lake</td></tr>",
                            "<tr><td>Rani Ganguly</td><td>Arrowhead Highlands</td></tr>",
                            "<tr><td>Wingtip Toys (Asher, OK)</td><td>Asher</td></tr>",
                            "<tr><td>Chompoo Atitarn</td><td>Ashland</td></tr>",
                            "<tr><td>Tailspin Toys (Ashtabula, OH)</td><td>Ashtabula</td></tr>",
                            "<tr><td>Tailspin Toys (Aspen Park, CO)</td><td>Aspen Park</td></tr>",
                            "<tr><td>Tailspin Toys (Astor Park, FL)</td><td>Astor Park</td></tr>",
                            "<tr><td>Wingtip Toys (Athol Springs, NY)</td><td>Athol Springs</td></tr>",
                            "<tr><td>Tailspin Toys (Avenal, CA)</td><td>Avenal</td></tr>",
                            "<tr><td>Daakshaayaani Kommineni</td><td>Bakers Mill</td></tr>",
                            "<tr><td>Wingtip Toys (Baldwin City, KS)</td><td>Baldwin City</td></tr>",
                            "<tr><td>Wingtip Toys (Balko, OK)</td><td>Balko</td></tr>",
                            "<tr><td>Tailspin Toys (Baraboo, WI)</td><td>Baraboo</td></tr>",
                            "<tr><td>Erik Malk</td><td>Basin</td></tr>",
                            "<tr><td>Tailspin Toys (Batson, TX)</td><td>Batson</td></tr>",
                            "<tr><td>Violetta KlanCisar</td><td>Bayou Cane</td></tr>",
                            "<tr><td>Risto Valbe</td><td>Bazemore</td></tr>",
                            "<tr><td>Wingtip Toys (Beals, ME)</td><td>Beals</td></tr>",
                            "<tr><td>Mikhail Degtyarev</td><td>Beaver Bay</td></tr>",
                            "<tr><td>Wingtip Toys (Beekmantown, NY)</td><td>Beekmantown</td></tr>",
                            "<tr><td>Tailspin Toys (Belgreen, AL)</td><td>Belgreen</td></tr>",
                            "<tr><td>Wingtip Toys (Bell Acres, PA)</td><td>Bell Acres</td></tr>",
                            "<tr><td>Clarissa Manfrin</td><td>Ben Arnold</td></tr>",
                            "<tr><td>Wingtip Toys (Bergen Park, CO)</td><td>Bergen Park</td></tr>",
                            "<tr><td>Mahmut ozbek</td><td>Bernardston</td></tr>",
                            "<tr><td>Tailspin Toys (Bernie, MO)</td><td>Bernie</td></tr>",
                            "<tr><td>Wingtip Toys (Bernstein, TX)</td><td>Bernstein</td></tr>",
                            "<tr><td>Wingtip Toys (Berville, MI)</td><td>Berville</td></tr>",
                            "<tr><td>Tailspin Toys (Bethania, NC)</td><td>Bethania</td></tr>",
                            "<tr><td>Wingtip Toys (Bethel Acres, OK)</td><td>Bethel Acres</td></tr>",
                            "<tr><td>Tailspin Toys (Big Moose, NY)</td><td>Big Moose</td></tr>",
                            "<tr><td>Aishwarya Dantuluri</td><td>Biggs</td></tr>",
                            "<tr><td>Nadir Seddigh</td><td>Biorka</td></tr>",
                            "<tr><td>Wingtip Toys (Birds, IL)</td><td>Birds</td></tr>",
                            "<tr><td>Tailspin Toys (Biscay, MN)</td><td>Biscay</td></tr>",
                            "<tr><td>Wingtip Toys (Black Lick, PA)</td><td>Black Lick</td></tr>",
                            "<tr><td>Rodrigo Figueiredo</td><td>Blackville</td></tr>",
                            "<tr><td>Liia Orav</td><td>Bladenboro</td></tr>",
                            "<tr><td>Wingtip Toys (Boalsburg, PA)</td><td>Boalsburg</td></tr>",
                            "<tr><td>Sara Huiting</td><td>Bock</td></tr>",
                            "<tr><td>Wingtip Toys (Bokeelia, FL)</td><td>Bokeelia</td></tr>",
                            "<tr><td>Edgar Jogi</td><td>Bombay Beach</td></tr>",
                            "<tr><td>Wingtip Toys (Bonner Springs, KS)</td><td>Bonner Springs</td></tr>",
                            "<tr><td>Wingtip Toys (Bourbonnais, IL)</td><td>Bourbonnais</td></tr>",
                            "<tr><td>Wingtip Toys (Bourneville, OH)</td><td>Bourneville</td></tr>",
                            "<tr><td>Tailspin Toys (Bow Mar, CO)</td><td>Bow Mar</td></tr>",
                            "<tr><td>Raghu Sandhu</td><td>Bowleys Quarters</td></tr>",
                            "<tr><td>Tailspin Toys (Bowlus, MN)</td><td>Bowlus</td></tr>",
                            "<tr><td>Kalyani Benjaree</td><td>Bowmansville</td></tr>",
                            "<tr><td>Tailspin Toys (Boyden Arbor, SC)</td><td>Boyden Arbor</td></tr>",
                            "<tr><td>Wingtip Toys (Boynton, OK)</td><td>Boynton</td></tr>",
                            "<tr><td>Wingtip Toys (Bozeman Hot Springs, MT)</td><td>Bozeman Hot Springs</td></tr>",
                            "<tr><td>Agrita Kanepa</td><td>Branchburg Park</td></tr>",
                            "<tr><td>Wingtip Toys (Branson West, MO)</td><td>Branson West</td></tr>",
                            "<tr><td>Tailspin Toys (Bratenahl, OH)</td><td>Bratenahl</td></tr>",
                            "<tr><td>Isidora Urias</td><td>Bratt</td></tr>",
                            "<tr><td>Farzana Habibi</td><td>Brookville</td></tr>",
                            "<tr><td>Wingtip Toys (Broomtown, AL)</td><td>Broomtown</td></tr>",
                            "<tr><td>Tailspin Toys (Brown City, MI)</td><td>Brown City</td></tr>",
                            "<tr><td>Wingtip Toys (Bruceton Mills, WV)</td><td>Bruceton Mills</td></tr>",
                            "<tr><td>Ana Florea</td><td>Buchanan Lake Village</td></tr>",
                            "<tr><td>Tailspin Toys (Buell, MO)</td><td>Buell</td></tr>",
                            "<tr><td>Arka Chatterjee</td><td>Byers</td></tr>",
                            "<tr><td>Wingtip Toys (Cache, OK)</td><td>Cache</td></tr>",
                            "<tr><td>Wingtip Toys (Cadogan, PA)</td><td>Cadogan</td></tr>",
                            "<tr><td>Wingtip Toys (Cale, AR)</td><td>Cale</td></tr>",
                            "<tr><td>Matyas Sedlar</td><td>Calvert City</td></tr>",
                            "<tr><td>Cosmina Vlad</td><td>Cañon</td></tr>",
                            "<tr><td>Chin-Sun Chang</td><td>Capa</td></tr>",
                            "<tr><td>Wingtip Toys (Cape Neddick, ME)</td><td>Cape Neddick</td></tr>",
                            "<tr><td>Tailspin Toys (Carbonville, UT)</td><td>Carbonville</td></tr>",
                            "<tr><td>Wingtip Toys (Caro, MI)</td><td>Caro</td></tr>",
                            "<tr><td>Ajitaab Pakalapati</td><td>Caruthers</td></tr>",
                            "<tr><td>Tailspin Toys (Caselton, NV)</td><td>Caselton</td></tr>",
                            "<tr><td>Kwanjai Saowaluk</td><td>Cataño</td></tr>",
                            "<tr><td>Krishnam Allu</td><td>Catesby</td></tr>",
                            "<tr><td>Wingtip Toys (Caton, NY)</td><td>Caton</td></tr>",
                            "<tr><td>Baran Jonsson</td><td>Cave Junction</td></tr>",
                            "<tr><td>Wingtip Toys (Cavendish, VT)</td><td>Cavendish</td></tr>",
                            "<tr><td>Bhaavan Rai</td><td>Chalco</td></tr>",
                            "<tr><td>Wingtip Toys (Chaseley, ND)</td><td>Chaseley</td></tr>",
                            "<tr><td>Lana Goransson</td><td>Chateaugay</td></tr>",
                            "<tr><td>Urve Kasesalu</td><td>Cherokee</td></tr>",
                            "<tr><td>Drazenka Jelic</td><td>Cherry Grove Beach</td></tr>",
                            "<tr><td>Tailspin Toys (Cherry Grove Beach, SC)</td><td>Cherry Grove Beach</td></tr>",
                            "<tr><td>Wingtip Toys (Cherryplain, NY)</td><td>Cherryplain</td></tr>",
                            "<tr><td>Wingtip Toys (Chetek, WI)</td><td>Chetek</td></tr>",
                            "<tr><td>Tailspin Toys (Cheyenne Wells, CO)</td><td>Cheyenne Wells</td></tr>",
                            "<tr><td>Sara Walkky</td><td>Chipita Park</td></tr>",
                            "<tr><td>Hai Banh</td><td>Claremont</td></tr>",
                            "<tr><td>Wingtip Toys (Claycomo, MO)</td><td>Claycomo</td></tr>",
                            "<tr><td>Tailspin Toys (Clewiston, FL)</td><td>Clewiston</td></tr>",
                            "<tr><td>Wingtip Toys (Cloquet, MN)</td><td>Cloquet</td></tr>",
                            "<tr><td>Nada Ana Slosar</td><td>Cloud Lake</td></tr>",
                            "<tr><td>Dena Glissen</td><td>Coffeyville</td></tr>",
                            "<tr><td>Wingtip Toys (Coin, IA)</td><td>Coin</td></tr>",
                            "<tr><td>Tailspin Toys (Cokato, MN)</td><td>Cokato</td></tr>",
                            "<tr><td>Wingtip Toys (Coker, AL)</td><td>Coker</td></tr>",
                            "<tr><td>Raj Verma</td><td>Colebrook</td></tr>",
                            "<tr><td>Tailspin Toys (College Place, WA)</td><td>College Place</td></tr>",
                            "<tr><td>Wingtip Toys (Compass Lake, FL)</td><td>Compass Lake</td></tr>",
                            "<tr><td>Jitka Necesana</td><td>Conesus Lake</td></tr>",
                            "<tr><td>Victoria Lacusta</td><td>Conewango</td></tr>",
                            "<tr><td>Tailspin Toys (Coney Island, MO)</td><td>Coney Island</td></tr>",
                            "<tr><td>Wingtip Toys (Connoquenessing, PA)</td><td>Connoquenessing</td></tr>",
                            "<tr><td>Melani Ravlen</td><td>Cookietown</td></tr>",
                            "<tr><td>Bhagavaan Atluri</td><td>Coosa</td></tr>",
                            "<tr><td>Stefan Selezeanu</td><td>Copake</td></tr>",
                            "<tr><td>Wingtip Toys (Corcovado, PR)</td><td>Corcovado</td></tr>",
                            "<tr><td>Tailspin Toys (Corfu, NY)</td><td>Corfu</td></tr>",
                            "<tr><td>David Novacek </td><td>Corryton</td></tr>",
                            "<tr><td>Tailspin Toys (Cortaro, AZ)</td><td>Cortaro</td></tr>",
                            "<tr><td>Wingtip Toys (Cos Cob, CT)</td><td>Cos Cob</td></tr>",
                            "<tr><td>Leonardo Folliero</td><td>Cotuit</td></tr>",
                            "<tr><td>Marie LeBatelier</td><td>Coupland</td></tr>",
                            "<tr><td>Wingtip Toys (Cowlington, OK)</td><td>Cowlington</td></tr>",
                            "<tr><td>Laura Sykorova</td><td>Coyville</td></tr>",
                            "<tr><td>Shantanu Huq</td><td>Cramerton</td></tr>",
                            "<tr><td>Tailspin Toys (Crary, ND)</td><td>Crary</td></tr>",
                            "<tr><td>Alvin Bollinger</td><td>Creelsboro</td></tr>",
                            "<tr><td>Wingtip Toys (Crossroads, NM)</td><td>Crossroads</td></tr>",
                            "<tr><td>Tailspin Toys (Cundiyo, NM)</td><td>Cundiyo</td></tr>",
                            "<tr><td>Valter Viiding</td><td>Cuyahoga Heights</td></tr>",
                            "<tr><td>Wingtip Toys (Cuyamungue, NM)</td><td>Cuyamungue</td></tr>",
                            "<tr><td>Wingtip Toys (Cylon, WI)</td><td>Cylon</td></tr>",
                            "<tr><td>Gabriela Hernandes</td><td>Cypress Quarters</td></tr>",
                            "<tr><td>Wingtip Toys (Dacono, CO)</td><td>Dacono</td></tr>",
                            "<tr><td>Tailspin Toys (Dahlia, NM)</td><td>Dahlia</td></tr>",
                            "<tr><td>Tailspin Toys (Dallardsville, TX)</td><td>Dallardsville</td></tr>",
                            "<tr><td>Bing Han</td><td>Darling</td></tr>",
                            "<tr><td>Serdar ozCelik</td><td>Dawn</td></tr>",
                            "<tr><td>Biju Deb</td><td>Deer River</td></tr>",
                            "<tr><td>Wingtip Toys (Deeson, MS)</td><td>Deeson</td></tr>",
                            "<tr><td>Wingtip Toys (Del Valle, TX)</td><td>Del Valle</td></tr>",
                            "<tr><td>Wingtip Toys (Delray, WV)</td><td>Delray</td></tr>",
                            "<tr><td>Harsha Huq</td><td>Dennis Acres</td></tr>",
                            "<tr><td>Tailspin Toys (Devault, PA)</td><td>Devault</td></tr>",
                            "<tr><td>Tailspin Toys (Diablock, KY)</td><td>Diablock</td></tr>",
                            "<tr><td>Wingtip Toys (Dickerson, MD)</td><td>Dickerson</td></tr>",
                            "<tr><td>Wingtip Toys (Dickworsham, TX)</td><td>Dickworsham</td></tr>",
                            "<tr><td>Narendra Tickoo</td><td>Dillon</td></tr>",
                            "<tr><td>Tailspin Toys (Donner, LA)</td><td>Donner</td></tr>",
                            "<tr><td>Dinh Mai</td><td>Dorchester</td></tr>",
                            "<tr><td>Veronika Necesana</td><td>Dover</td></tr>",
                            "<tr><td>Wingtip Toys (Downingtown, PA)</td><td>Downingtown</td></tr>",
                            "<tr><td>Tailspin Toys (Dracut, MA)</td><td>Dracut</td></tr>",
                            "<tr><td>Celica Barajas</td><td>Drakesboro</td></tr>",
                            "<tr><td>Joel Carrillo</td><td>Drumright</td></tr>",
                            "<tr><td>Satish Mittal</td><td>Dry Run</td></tr>",
                            "<tr><td>Adrian Andreasson</td><td>Du Quoin</td></tr>",
                            "<tr><td>Tailspin Toys (Dundarrach, NC)</td><td>Dundarrach</td></tr>",
                            "<tr><td>Wingtip Toys (Dunkerton, IA)</td><td>Dunkerton</td></tr>",
                            "<tr><td>Jakub Lukes</td><td>Eagle Valley</td></tr>",
                            "<tr><td>Tailspin Toys (East Dailey, WV)</td><td>East Dailey</td></tr>",
                            "<tr><td>Tailspin Toys (East Fultonham, OH)</td><td>East Fultonham</td></tr>",
                            "<tr><td>Wingtip Toys (East Fultonham, OH)</td><td>East Fultonham</td></tr>",
                            "<tr><td>Wingtip Toys (East Mountain, TX)</td><td>East Mountain</td></tr>",
                            "<tr><td>Tailspin Toys (East Portal, CO)</td><td>East Portal</td></tr>",
                            "<tr><td>Tailspin Toys (Eastchester, NY)</td><td>Eastchester</td></tr>",
                            "<tr><td>Tailspin Toys (Eden Valley, MN)</td><td>Eden Valley</td></tr>",
                            "<tr><td>Tailspin Toys (Edgartown, MA)</td><td>Edgartown</td></tr>",
                            "<tr><td>Dhaatri Chavva</td><td>Edgecomb</td></tr>",
                            "<tr><td>Wingtip Toys (Edmund, WI)</td><td>Edmund</td></tr>",
                            "<tr><td>Tailspin Toys (Ekron, KY)</td><td>Ekron</td></tr>",
                            "<tr><td>Ratan Poddar</td><td>Ekwok</td></tr>",
                            "<tr><td>Tailspin Toys (El Centro, CA)</td><td>El Centro</td></tr>",
                            "<tr><td>Andris Saulitis</td><td>El Refugio</td></tr>",
                            "<tr><td>Jack Walker</td><td>Elbing</td></tr>",
                            "<tr><td>Jasna Cerkez</td><td>Elk Garden</td></tr>",
                            "<tr><td>Libuse Valentova</td><td>Elkatawa</td></tr>",
                            "<tr><td>Jibek Juniskyzy</td><td>Ellisville</td></tr>",
                            "<tr><td>Tailspin Toys (Elrosa, MN)</td><td>Elrosa</td></tr>",
                            "<tr><td>Wingtip Toys (Elverson, PA)</td><td>Elverson</td></tr>",
                            "<tr><td>Arijit Bhuiyan</td><td>Esopus</td></tr>",
                            "<tr><td>Tailspin Toys (Eulaton, AL)</td><td>Eulaton</td></tr>",
                            "<tr><td>Bhagavati Vinjamuri</td><td>Ewart</td></tr>",
                            "<tr><td>Marcela Lucescu</td><td>Ewen</td></tr>",
                            "<tr><td>Tailspin Toys (Fairfield Glade, TN)</td><td>Fairfield Glade</td></tr>",
                            "<tr><td>Wingtip Toys (Federalsburg, MD)</td><td>Federalsburg</td></tr>",
                            "<tr><td>Wingtip Toys (Ferney, SD)</td><td>Ferney</td></tr>",
                            "<tr><td>Tailspin Toys (Fieldbrook, CA)</td><td>Fieldbrook</td></tr>",
                            "<tr><td>Tailspin Toys (Fishtail, MT)</td><td>Fishtail</td></tr>",
                            "<tr><td>Chuan Wattanasin</td><td>Flanagan</td></tr>",
                            "<tr><td>Wingtip Toys (Flomaton, AL)</td><td>Flomaton</td></tr>",
                            "<tr><td>Nguyen Banh</td><td>Florahome</td></tr>",
                            "<tr><td>Wingtip Toys (Floriston, CA)</td><td>Floriston</td></tr>",
                            "<tr><td>Olya Izmaylov</td><td>Flowella</td></tr>",
                            "<tr><td>Tai Bach</td><td>Fortville</td></tr>",
                            "<tr><td>Tailspin Toys (Francis Mills, NJ)</td><td>Francis Mills</td></tr>",
                            "<tr><td>Tailspin Toys (Frankewing, TN)</td><td>Frankewing</td></tr>",
                            "<tr><td>Wingtip Toys (Frenchburg, KY)</td><td>Frenchburg</td></tr>",
                            "<tr><td>Tailspin Toys (Furley, KS)</td><td>Furley</td></tr>",
                            "<tr><td>Dhanishta Pullela</td><td>Gallipolis Ferry</td></tr>",
                            "<tr><td>Tailspin Toys (Gardere, LA)</td><td>Gardere</td></tr>",
                            "<tr><td>Anil Sarkar</td><td>Gardners</td></tr>",
                            "<tr><td>Wingtip Toys (Gargatha, VA)</td><td>Gargatha</td></tr>",
                            "<tr><td>Debbie Molina</td><td>Garlin</td></tr>",
                            "<tr><td>Tailspin Toys (Gasport, NY)</td><td>Gasport</td></tr>",
                            "<tr><td>Shah Alizadeh</td><td>Gassaway</td></tr>",
                            "<tr><td>Wingtip Toys (Gilford, NH)</td><td>Gilford</td></tr>",
                            "<tr><td>Wingtip Toys (Glancy, MS)</td><td>Glancy</td></tr>",
                            "<tr><td>Tailspin Toys (Glen Avon, CA)</td><td>Glen Avon</td></tr>",
                            "<tr><td>Tailspin Toys (Glen Park, NY)</td><td>Glen Park</td></tr>",
                            "<tr><td>Wingtip Toys (Glen Ullin, ND)</td><td>Glen Ullin</td></tr>",
                            "<tr><td>Aakriti Byrraju</td><td>Glenwillow</td></tr>",
                            "<tr><td>Tailspin Toys (Goffstown, NH)</td><td>Goffstown</td></tr>",
                            "<tr><td>Elina Kaleja</td><td>Golden Meadow</td></tr>",
                            "<tr><td>Daevasree Samavedam</td><td>Golf View</td></tr>",
                            "<tr><td>Tailspin Toys (Good Hart, MI)</td><td>Good Hart</td></tr>",
                            "<tr><td>Wingtip Toys (Goodings Grove, IL)</td><td>Goodings Grove</td></tr>",
                            "<tr><td>Wingtip Toys (Grabill, IN)</td><td>Grabill</td></tr>",
                            "<tr><td>Sabine Alksne</td><td>Grannis</td></tr>",
                            "<tr><td>Roko Ilic</td><td>Grantsburg</td></tr>",
                            "<tr><td>Christian Couet</td><td>Great Neck</td></tr>",
                            "<tr><td>Tailspin Toys (Great Neck Estates, NY)</td><td>Great Neck Estates</td></tr>",
                            "<tr><td>Juan Morse</td><td>Greenback</td></tr>",
                            "<tr><td>Bhagavateeprasaad Malladi</td><td>Greenfield</td></tr>",
                            "<tr><td>Kertu Sokk</td><td>Greig</td></tr>",
                            "<tr><td>Lilli Sokk</td><td>Gresston</td></tr>",
                            "<tr><td>Nils Kaulins</td><td>Greycliff</td></tr>",
                            "<tr><td>Jai Lamble</td><td>Grider</td></tr>",
                            "<tr><td>Wingtip Toys (Griswoldville, GA)</td><td>Griswoldville</td></tr>",
                            "<tr><td>Tailspin Toys (Guin, AL)</td><td>Guin</td></tr>",
                            "<tr><td>Tailspin Toys (Gum Branch, GA)</td><td>Gum Branch</td></tr>",
                            "<tr><td>Kamala Nishad</td><td>Haddon Heights</td></tr>",
                            "<tr><td>Tailspin Toys (Hahira, GA)</td><td>Hahira</td></tr>",
                            "<tr><td>Sabine Zalite</td><td>Haltom City</td></tr>",
                            "<tr><td>Tailspin Toys (Hambleton, WV)</td><td>Hambleton</td></tr>",
                            "<tr><td>Meera Patel</td><td>Hanaford</td></tr>",
                            "<tr><td>Annette  Hetu</td><td>Hanna</td></tr>",
                            "<tr><td>Tailspin Toys (Hanoverton, OH)</td><td>Hanoverton</td></tr>",
                            "<tr><td>Sumati Bhat</td><td>Harbour Pointe</td></tr>",
                            "<tr><td>Tailspin Toys (Hardeeville, SC)</td><td>Hardeeville</td></tr>",
                            "<tr><td>Wingtip Toys (Harkers Island, NC)</td><td>Harkers Island</td></tr>",
                            "<tr><td>Ida Celma</td><td>Hawarden</td></tr>",
                            "<tr><td>Wingtip Toys (Haycock, AK)</td><td>Haycock</td></tr>",
                            "<tr><td>Wingtip Toys (Haydenville, OH)</td><td>Haydenville</td></tr>",
                            "<tr><td>Tailspin Toys (Hayes Center, NE)</td><td>Hayes Center</td></tr>",
                            "<tr><td>Wingtip Toys (Heartwell, NE)</td><td>Heartwell</td></tr>",
                            "<tr><td>Tailspin Toys (Hedrick, IA)</td><td>Hedrick</td></tr>",
                            "<tr><td>Tailspin Toys (Heilwood, PA)</td><td>Heilwood</td></tr>",
                            "<tr><td>Wingtip Toys (Helotes, TX)</td><td>Helotes</td></tr>",
                            "<tr><td>Wingtip Toys (Herlong, CA)</td><td>Herlong</td></tr>",
                            "<tr><td>Wingtip Toys (Highland Home, AL)</td><td>Highland Home</td></tr>",
                            "<tr><td>Eva Schulteisz</td><td>Hightsville</td></tr>",
                            "<tr><td>Tailspin Toys (Hiteman, IA)</td><td>Hiteman</td></tr>",
                            "<tr><td>Tailspin Toys (Hodgdon, ME)</td><td>Hodgdon</td></tr>",
                            "<tr><td>Hue Ton</td><td>Holden Beach</td></tr>",
                            "<tr><td>Wingtip Toys (Hollandsburg, IN)</td><td>Hollandsburg</td></tr>",
                            "<tr><td>Tailspin Toys (Hollywood Park, TX)</td><td>Hollywood Park</td></tr>",
                            "<tr><td>Wingtip Toys (Homer City, PA)</td><td>Homer City</td></tr>",
                            "<tr><td>Tailspin Toys (Howells, NE)</td><td>Howells</td></tr>",
                            "<tr><td>Anna Mazzanti</td><td>Humansville</td></tr>",
                            "<tr><td>Wingtip Toys (Huntingburg, IN)</td><td>Huntingburg</td></tr>",
                            "<tr><td>Emily Whittle</td><td>Huntington Woods</td></tr>",
                            "<tr><td>Wingtip Toys (Idaho City, ID)</td><td>Idaho City</td></tr>",
                            "<tr><td>Tailspin Toys (Idria, CA)</td><td>Idria</td></tr>",
                            "<tr><td>Tailspin Toys (Ikatan, AK)</td><td>Ikatan</td></tr>",
                            "<tr><td>Dhanishta Mokkapati</td><td>Iliamna</td></tr>",
                            "<tr><td>Tailspin Toys (Imlaystown, NJ)</td><td>Imlaystown</td></tr>",
                            "<tr><td>Tailspin Toys (Impact, TX)</td><td>Impact</td></tr>",
                            "<tr><td>Wingtip Toys (Indian Creek, IL)</td><td>Indian Creek</td></tr>",
                            "<tr><td>Tailspin Toys (Indios, PR)</td><td>Indios</td></tr>",
                            "<tr><td>Tailspin Toys (Inguadona, MN)</td><td>Inguadona</td></tr>",
                            "<tr><td>Wingtip Toys (Isabela, PR)</td><td>Isabela</td></tr>",
                            "<tr><td>Sylvie Laramee</td><td>Isabela</td></tr>",
                            "<tr><td>Wingtip Toys (Islip Terrace, NY)</td><td>Islip Terrace</td></tr>",
                            "<tr><td>Wingtip Toys (Jamison, IA)</td><td>Jamison</td></tr>",
                            "<tr><td>Richard Zahradnicek</td><td>Jane</td></tr>",
                            "<tr><td>Tailspin Toys (Jemison, AL)</td><td>Jemison</td></tr>",
                            "<tr><td>Wingtip Toys (Jeromesville, OH)</td><td>Jeromesville</td></tr>",
                            "<tr><td>Eliza Persson</td><td>Jesmond Dene</td></tr>",
                            "<tr><td>Tailspin Toys (Jessie, ND)</td><td>Jessie</td></tr>",
                            "<tr><td>Wingtip Toys (Johnetta, KY)</td><td>Johnetta</td></tr>",
                            "<tr><td>Francisca Laureano</td><td>Jolley</td></tr>",
                            "<tr><td>Seo-yun Paik</td><td>Jones Creek</td></tr>",
                            "<tr><td>Tailspin Toys (Kalvesta, KS)</td><td>Kalvesta</td></tr>",
                            "<tr><td>Anna Gyarmathi</td><td>Kannapolis</td></tr>",
                            "<tr><td>Wingtip Toys (Kapa&#39;a, HI)</td><td>Kapa&#39;a</td></tr>",
                            "<tr><td>Wingtip Toys (Karthaus, PA)</td><td>Karthaus</td></tr>",
                            "<tr><td>Wingtip Toys (Keosauqua, IA)</td><td>Keosauqua</td></tr>",
                            "<tr><td>Tailspin Toys (Kerby, OR)</td><td>Kerby</td></tr>",
                            "<tr><td>Wingtip Toys (Key Biscayne, FL)</td><td>Key Biscayne</td></tr>",
                            "<tr><td>Bijoya Thakur</td><td>Kinder</td></tr>",
                            "<tr><td>Tailspin Toys (King Cove, AK)</td><td>King Cove</td></tr>",
                            "<tr><td>Tailspin Toys (Knifley, KY)</td><td>Knifley</td></tr>",
                            "<tr><td>Wingtip Toys (Knights Landing, CA)</td><td>Knights Landing</td></tr>",
                            "<tr><td>Cuneyt Arslan</td><td>Komalty</td></tr>",
                            "<tr><td>Tailspin Toys (Koontzville, WA)</td><td>Koontzville</td></tr>",
                            "<tr><td>Emil Roman</td><td>Kopperl</td></tr>",
                            "<tr><td>Tailspin Toys (Kwethluk, AK)</td><td>Kwethluk</td></tr>",
                            "<tr><td>Aleksandrs Riekstins</td><td>La Bolt</td></tr>",
                            "<tr><td>Tailspin Toys (La Cueva, NM)</td><td>La Cueva</td></tr>",
                            "<tr><td>Abel Tatarescu</td><td>La Grange Park</td></tr>",
                            "<tr><td>Katerina Hadrabova</td><td>La Paz</td></tr>",
                            "<tr><td>Bishwa Chatterjee</td><td>Lake Clarke Shores</td></tr>",
                            "<tr><td>Allan Mannik</td><td>Lake Crystal</td></tr>",
                            "<tr><td>Wingtip Toys (Lake Davis, CA)</td><td>Lake Davis</td></tr>",
                            "<tr><td>Tailspin Toys (Lake Erie Beach, NY)</td><td>Lake Erie Beach</td></tr>",
                            "<tr><td>Tailspin Toys (Lake Hughes, CA)</td><td>Lake Hughes</td></tr>",
                            "<tr><td>Bhaamini Palagummi</td><td>Lake Mohegan</td></tr>",
                            "<tr><td>Wingtip Toys (Lake Ronkonkoma, NY)</td><td>Lake Ronkonkoma</td></tr>",
                            "<tr><td>Tailspin Toys (Lake Stevens, WA)</td><td>Lake Stevens</td></tr>",
                            "<tr><td>Tailspin Toys (Lakemore, OH)</td><td>Lakemore</td></tr>",
                            "<tr><td>Ivana Hadrabova</td><td>Lancaster</td></tr>",
                            "<tr><td>Tailspin Toys (Larose, LA)</td><td>Larose</td></tr>",
                            "<tr><td>Durdanah Abbasi</td><td>Laurence Harbor</td></tr>",
                            "<tr><td>Tailspin Toys (Lavon, TX)</td><td>Lavon</td></tr>",
                            "<tr><td>Wingtip Toys (Leathersville, GA)</td><td>Leathersville</td></tr>",
                            "<tr><td>Tailspin Toys (Lemeta, AK)</td><td>Lemeta</td></tr>",
                            "<tr><td>Tailspin Toys (Lesslie, SC)</td><td>Lesslie</td></tr>",
                            "<tr><td>Wingtip Toys (Lexington Heights, MI)</td><td>Lexington Heights</td></tr>",
                            "<tr><td>Wingtip Toys (Liberty Grove, MD)</td><td>Liberty Grove</td></tr>",
                            "<tr><td>Ian Olofsson</td><td>Liberty Plain</td></tr>",
                            "<tr><td>Wingtip Toys (Licking, MO)</td><td>Licking</td></tr>",
                            "<tr><td>Wingtip Toys (Lilbourn, MO)</td><td>Lilbourn</td></tr>",
                            "<tr><td>Wingtip Toys (Lime Lake, NY)</td><td>Lime Lake</td></tr>",
                            "<tr><td>Luis Saucedo</td><td>Linden</td></tr>",
                            "<tr><td>Tailspin Toys (Head Office)</td><td>Lisco</td></tr>",
                            "<tr><td>Lakshmi Benipal</td><td>Lompoc</td></tr>",
                            "<tr><td>Agrita Abele</td><td>Long Beach</td></tr>",
                            "<tr><td>Tailspin Toys (Long Meadow, MD)</td><td>Long Meadow</td></tr>",
                            "<tr><td>Maksims Krastins</td><td>Lorentz</td></tr>",
                            "<tr><td>Wingtip Toys (Lost River, ID)</td><td>Lost River</td></tr>",
                            "<tr><td>Wingtip Toys (Lostine, OR)</td><td>Lostine</td></tr>",
                            "<tr><td>Wingtip Toys (Lowellville, OH)</td><td>Lowellville</td></tr>",
                            "<tr><td>Wingtip Toys (Lucasville, OH)</td><td>Lucasville</td></tr>",
                            "<tr><td>Om Yadav</td><td>Lunds</td></tr>",
                            "<tr><td>Wingtip Toys (Lynne, FL)</td><td>Lynne</td></tr>",
                            "<tr><td>Wingtip Toys (Lytle, TX)</td><td>Lytle</td></tr>",
                            "<tr><td>Tailspin Toys (Lytle Creek, CA)</td><td>Lytle Creek</td></tr>",
                            "<tr><td>Tailspin Toys (Madaket, MA)</td><td>Madaket</td></tr>",
                            "<tr><td>Knut Svensson</td><td>Madison Park</td></tr>",
                            "<tr><td>Tailspin Toys (Madrone, NM)</td><td>Madrone</td></tr>",
                            "<tr><td>Tailspin Toys (Magalia, CA)</td><td>Magalia</td></tr>",
                            "<tr><td>Wingtip Toys (Mahaffey, PA)</td><td>Mahaffey</td></tr>",
                            "<tr><td>Miriam House</td><td>Makoti</td></tr>",
                            "<tr><td>Tailspin Toys (Malott, WA)</td><td>Malott</td></tr>",
                            "<tr><td>Daniel Martensson</td><td>Mamou</td></tr>",
                            "<tr><td>Tailspin Toys (Manahawkin, NJ)</td><td>Manahawkin</td></tr>",
                            "<tr><td>Tailspin Toys (Manchester Center, VT)</td><td>Manchester Center</td></tr>",
                            "<tr><td>Tailspin Toys (Maple Shade, NJ)</td><td>Maple Shade</td></tr>",
                            "<tr><td>Tailspin Toys (Mappsburg, VA)</td><td>Mappsburg</td></tr>",
                            "<tr><td>Tailspin Toys (Marcell, MN)</td><td>Marcell</td></tr>",
                            "<tr><td>Leyla Siavashi</td><td>Marcella</td></tr>",
                            "<tr><td>Wingtip Toys (Marfa, TX)</td><td>Marfa</td></tr>",
                            "<tr><td>Marija Justina Pasek</td><td>Marguerite</td></tr>",
                            "<tr><td>Wingtip Toys (Marin City, CA)</td><td>Marin City</td></tr>",
                            "<tr><td>Laszlo Gardenier</td><td>Marion Hill</td></tr>",
                            "<tr><td>Wingtip Toys (Marion Junction, AL)</td><td>Marion Junction</td></tr>",
                            "<tr><td>Abel Spirlea</td><td>Markville</td></tr>",
                            "<tr><td>Nasrin Omidzadeh</td><td>Mary Esther</td></tr>",
                            "<tr><td>Linh Dao</td><td>Mashulaville</td></tr>",
                            "<tr><td>Wingtip Toys (Mauldin, SC)</td><td>Mauldin</td></tr>",
                            "<tr><td>Wingtip Toys (Mayhill, NM)</td><td>Mayhill</td></tr>",
                            "<tr><td>Tailspin Toys (Maypearl, TX)</td><td>Maypearl</td></tr>",
                            "<tr><td>Wingtip Toys (McAdenville, NC)</td><td>McAdenville</td></tr>",
                            "<tr><td>Phoung Cu</td><td>McCall</td></tr>",
                            "<tr><td>Tailspin Toys (McCamey, TX)</td><td>McCamey</td></tr>",
                            "<tr><td>Edmee Glissen</td><td>McCammon</td></tr>",
                            "<tr><td>Tailspin Toys (McClave, CO)</td><td>McClave</td></tr>",
                            "<tr><td>Radha Barua</td><td>McQueen</td></tr>",
                            "<tr><td>In-Su Bae</td><td>Meadowdale</td></tr>",
                            "<tr><td>Hanita Nookala</td><td>Meaux</td></tr>",
                            "<tr><td>Tailspin Toys (Medicine Lodge, KS)</td><td>Medicine Lodge</td></tr>",
                            "<tr><td>Wingtip Toys (Mendoza, TX)</td><td>Mendoza</td></tr>",
                            "<tr><td>Wingtip Toys (Mickleton, NJ)</td><td>Mickleton</td></tr>",
                            "<tr><td>Kumar Kamei</td><td>Middleway</td></tr>",
                            "<tr><td>Anand Mudaliyar</td><td>Midland</td></tr>",
                            "<tr><td>Wingtip Toys (Mier, IN)</td><td>Mier</td></tr>",
                            "<tr><td>Wingtip Toys (Miesville, MN)</td><td>Miesville</td></tr>",
                            "<tr><td>Tailspin Toys (Mineral Hills, MI)</td><td>Mineral Hills</td></tr>",
                            "<tr><td>Tailspin Toys (Minidoka, ID)</td><td>Minidoka</td></tr>",
                            "<tr><td>Wingtip Toys (Molalla, OR)</td><td>Molalla</td></tr>",
                            "<tr><td>Wingtip Toys (Montoya, NM)</td><td>Montoya</td></tr>",
                            "<tr><td>Wingtip Toys (Mooringsport, LA)</td><td>Mooringsport</td></tr>",
                            "<tr><td>Hana Hlouskova</td><td>Moquino</td></tr>",
                            "<tr><td>Wingtip Toys (Morita, TX)</td><td>Morita</td></tr>",
                            "<tr><td>Som Mukherjee</td><td>Moroni</td></tr>",
                            "<tr><td>Wingtip Toys (Morrison Bluff, AR)</td><td>Morrison Bluff</td></tr>",
                            "<tr><td>Wingtip Toys (Morton Grove, IL)</td><td>Morton Grove</td></tr>",
                            "<tr><td>Tailspin Toys (Mount Montgomery, NV)</td><td>Mount Montgomery</td></tr>",
                            "<tr><td>Jay Bhuiyan</td><td>Mount Pocono</td></tr>",
                            "<tr><td>Wingtip Toys (Mount Summit, IN)</td><td>Mount Summit</td></tr>",
                            "<tr><td>Tailspin Toys (Muir, MI)</td><td>Muir</td></tr>",
                            "<tr><td>Wingtip Toys (Munich, ND)</td><td>Munich</td></tr>",
                            "<tr><td>Wingtip Toys (Naches, WA)</td><td>Naches</td></tr>",
                            "<tr><td>Ioana Florea</td><td>Nahant</td></tr>",
                            "<tr><td>Tailspin Toys (Nanafalia, AL)</td><td>Nanafalia</td></tr>",
                            "<tr><td>Tailspin Toys (Naples Park, FL)</td><td>Naples Park</td></tr>",
                            "<tr><td>Tailspin Toys (Navassa, NC)</td><td>Navassa</td></tr>",
                            "<tr><td>Wingtip Toys (Necedah, WI)</td><td>Necedah</td></tr>",
                            "<tr><td>Pinja Jantunen</td><td>Nehawka</td></tr>",
                            "<tr><td>Chandana Shasthri</td><td>Nesmith</td></tr>",
                            "<tr><td>Tailspin Toys (Netcong, NJ)</td><td>Netcong</td></tr>",
                            "<tr><td>Tailspin Toys (New Baden, IL)</td><td>New Baden</td></tr>",
                            "<tr><td>Pavel Bogdanov</td><td>New Braintree</td></tr>",
                            "<tr><td>Wingtip Toys (New Laguna, NM)</td><td>New Laguna</td></tr>",
                            "<tr><td>Tailspin Toys (New Lexington, OH)</td><td>New Lexington</td></tr>",
                            "<tr><td>Chandrashekhar Dasgupta</td><td>New Plymouth</td></tr>",
                            "<tr><td>Emilie Hrdlickova</td><td>New Zion</td></tr>",
                            "<tr><td>Irma Berzina</td><td>Newberg</td></tr>",
                            "<tr><td>Hee-Young Suh</td><td>Nicasio</td></tr>",
                            "<tr><td>Wingtip Toys (Nichols Hills, OK)</td><td>Nichols Hills</td></tr>",
                            "<tr><td>Matteo Cattaneo</td><td>Nicholson</td></tr>",
                            "<tr><td>Santiago Vera</td><td>Nitro</td></tr>",
                            "<tr><td>Wingtip Toys (North Beach Haven, NJ)</td><td>North Beach Haven</td></tr>",
                            "<tr><td>Amarasimha Vinjamuri</td><td>North Brookfield</td></tr>",
                            "<tr><td>Tailspin Toys (North Cowden, TX)</td><td>North Cowden</td></tr>",
                            "<tr><td>Tailspin Toys (North Crows Nest, IN)</td><td>North Crows Nest</td></tr>",
                            "<tr><td>Richard Friar</td><td>North Eastham</td></tr>",
                            "<tr><td>Mauno Laurila</td><td>North Eaton</td></tr>",
                            "<tr><td>Wingtip Toys (North Manitou, MI)</td><td>North Manitou</td></tr>",
                            "<tr><td>Sumati Chatterjee</td><td>North Muskegon</td></tr>",
                            "<tr><td>Tailspin Toys (North Ridge, NY)</td><td>North Ridge</td></tr>",
                            "<tr><td>Nada Jovanovic</td><td>North York</td></tr>",
                            "<tr><td>Ivan Sepulveda</td><td>Northrop</td></tr>",
                            "<tr><td>Wingtip Toys (Nuangola, PA)</td><td>Nuangola</td></tr>",
                            "<tr><td>Wingtip Toys (Oak Point, TX)</td><td>Oak Point</td></tr>",
                            "<tr><td>Liidia Lepp</td><td>Oakpark</td></tr>",
                            "<tr><td>Taj Syme</td><td>Oakshade</td></tr>",
                            "<tr><td>Wingtip Toys (Obetz, OH)</td><td>Obetz</td></tr>",
                            "<tr><td>Wingtip Toys (Obion, TN)</td><td>Obion</td></tr>",
                            "<tr><td>Kumar Naicker</td><td>Oconto Falls</td></tr>",
                            "<tr><td>Surendra Sahu</td><td>Old River-Winfree</td></tr>",
                            "<tr><td>Can ozcan</td><td>Oley</td></tr>",
                            "<tr><td>Tailspin Toys (Olivette, MO)</td><td>Olivette</td></tr>",
                            "<tr><td>Wingtip Toys (Omer, MI)</td><td>Omer</td></tr>",
                            "<tr><td>Wingtip Toys (Oologah, OK)</td><td>Oologah</td></tr>",
                            "<tr><td>Tailspin Toys (Optimo, NM)</td><td>Optimo</td></tr>",
                            "<tr><td>Tailspin Toys (Orchard Hill, GA)</td><td>Orchard Hill</td></tr>",
                            "<tr><td>Wingtip Toys (Head Office)</td><td>Orchard Mesa</td></tr>",
                            "<tr><td>Wingtip Toys (Orick, CA)</td><td>Orick</td></tr>",
                            "<tr><td>Tailspin Toys (Oriole Beach, FL)</td><td>Oriole Beach</td></tr>",
                            "<tr><td>Ganesh Majumdar</td><td>Orland Hills</td></tr>",
                            "<tr><td>Gopalgobinda Sikdar</td><td>Orpha</td></tr>",
                            "<tr><td>Tailspin Toys (Orrtanna, PA)</td><td>Orrtanna</td></tr>",
                            "<tr><td>Tailspin Toys (Ortley Beach, NJ)</td><td>Ortley Beach</td></tr>",
                            "<tr><td>Tuulikki Linna</td><td>Otterville</td></tr>",
                            "<tr><td>Geza Roman</td><td>Oval</td></tr>",
                            "<tr><td>Wingtip Toys (Ovilla, TX)</td><td>Ovilla</td></tr>",
                            "<tr><td>Tailspin Toys (Page City, KS)</td><td>Page City</td></tr>",
                            "<tr><td>Cong Hoa</td><td>Palatine Bridge</td></tr>",
                            "<tr><td>Wingtip Toys (Palmas del Mar, PR)</td><td>Palmas del Mar</td></tr>",
                            "<tr><td>Amrita Ganguly</td><td>Palmas del Mar</td></tr>",
                            "<tr><td>Tailspin Toys (Panaca, NV)</td><td>Panaca</td></tr>",
                            "<tr><td>Madhu Dwivedi</td><td>Panton</td></tr>",
                            "<tr><td>Mahavir Sonkar</td><td>Pastura</td></tr>",
                            "<tr><td>Wingtip Toys (Paw Paw Lake, MI)</td><td>Paw Paw Lake</td></tr>",
                            "<tr><td>Wingtip Toys (Pawlet, VT)</td><td>Pawlet</td></tr>",
                            "<tr><td>Tailspin Toys (Peeples Valley, AZ)</td><td>Peeples Valley</td></tr>",
                            "<tr><td>Wingtip Toys (Penns Creek, PA)</td><td>Penns Creek</td></tr>",
                            "<tr><td>Johanna Hoornstra</td><td>Petronila</td></tr>",
                            "<tr><td>Valentin Tirlea</td><td>Pharr</td></tr>",
                            "<tr><td>Staffan Persson</td><td>Phelps City</td></tr>",
                            "<tr><td>Wingtip Toys (Philip, SD)</td><td>Philip</td></tr>",
                            "<tr><td>Wingtip Toys (Pikeview, CO)</td><td>Pikeview</td></tr>",
                            "<tr><td>Tailspin Toys (Placer, OR)</td><td>Placer</td></tr>",
                            "<tr><td>Wingtip Toys (Plaquemine, LA)</td><td>Plaquemine</td></tr>",
                            "<tr><td>Wingtip Toys (Plata, TX)</td><td>Plata</td></tr>",
                            "<tr><td>Wingtip Toys (Plum Branch, SC)</td><td>Plum Branch</td></tr>",
                            "<tr><td>Tailspin Toys (Point Roberts, WA)</td><td>Point Roberts</td></tr>",
                            "<tr><td>Lorin Astrom</td><td>Port Alto</td></tr>",
                            "<tr><td>Vladimir Henzl</td><td>Port Chilkoot</td></tr>",
                            "<tr><td>Wingtip Toys (Port Hueneme, CA)</td><td>Port Hueneme</td></tr>",
                            "<tr><td>Wingtip Toys (Portales, NM)</td><td>Portales</td></tr>",
                            "<tr><td>Tailspin Toys (Premont, TX)</td><td>Premont</td></tr>",
                            "<tr><td>Baalaamjali Devulapalli</td><td>Puerto de Luna</td></tr>",
                            "<tr><td>Wingtip Toys (Queen Valley, AZ)</td><td>Queen Valley</td></tr>",
                            "<tr><td>Tailspin Toys (Rafael Capó, PR)</td><td>Rafael Capó</td></tr>",
                            "<tr><td>Jackson Kolios</td><td>Rail Road Flat</td></tr>",
                            "<tr><td>Tailspin Toys (Railroad, PA)</td><td>Railroad</td></tr>",
                            "<tr><td>Wingtip Toys (Raton, NM)</td><td>Raton</td></tr>",
                            "<tr><td>Jayanta Thakur</td><td>Raven</td></tr>",
                            "<tr><td>Daniella Cavalcante</td><td>Ravia</td></tr>",
                            "<tr><td>Vedrana Kovacevic</td><td>Reader</td></tr>",
                            "<tr><td>Nhung Thach</td><td>Red Mesa</td></tr>",
                            "<tr><td>Wingtip Toys (Rich Creek, VA)</td><td>Rich Creek</td></tr>",
                            "<tr><td>Serdar ozden</td><td>Richland</td></tr>",
                            "<tr><td>Wingtip Toys (Ridgemark, CA)</td><td>Ridgemark</td></tr>",
                            "<tr><td>David Jaramillo</td><td>Ridgeway</td></tr>",
                            "<tr><td>Chaayaadaevi Sonti</td><td>Roachtown</td></tr>",
                            "<tr><td>Adriana Pena</td><td>Roberta Mill</td></tr>",
                            "<tr><td>Maryann Huddleston</td><td>Robertsburg</td></tr>",
                            "<tr><td>Wingtip Toys (Robertsdale, AL)</td><td>Robertsdale</td></tr>",
                            "<tr><td>Wingtip Toys (Rockwall, TX)</td><td>Rockwall</td></tr>",
                            "<tr><td>Tailspin Toys (Rockwall, TX)</td><td>Rockwall</td></tr>",
                            "<tr><td>Tailspin Toys (Roe Park, NY)</td><td>Roe Park</td></tr>",
                            "<tr><td>Emma Salpa</td><td>Rogersville</td></tr>",
                            "<tr><td>Wingtip Toys (Rosa Sánchez, PR)</td><td>Rosa Sánchez</td></tr>",
                            "<tr><td>Wingtip Toys (Rose Tree, PA)</td><td>Rose Tree</td></tr>",
                            "<tr><td>Tailspin Toys (Rothsville, PA)</td><td>Rothsville</td></tr>",
                            "<tr><td>Tailspin Toys (Royal City, WA)</td><td>Royal City</td></tr>",
                            "<tr><td>Wingtip Toys (Ruthsburg, MD)</td><td>Ruthsburg</td></tr>",
                            "<tr><td>Neil Farrelly</td><td>Sabinsville</td></tr>",
                            "<tr><td>Wingtip Toys (Saint Landry, LA)</td><td>Saint Landry</td></tr>",
                            "<tr><td>Tailspin Toys (Saint Louis Park, MN)</td><td>Saint Louis Park</td></tr>",
                            "<tr><td>Tailspin Toys (Saks, AL)</td><td>Saks</td></tr>",
                            "<tr><td>Tailspin Toys (Sallyards, KS)</td><td>Sallyards</td></tr>",
                            "<tr><td>Wingtip Toys (Salt Wells, NV)</td><td>Salt Wells</td></tr>",
                            "<tr><td>Tailspin Toys (San Acacia, NM)</td><td>San Acacia</td></tr>",
                            "<tr><td>Wingtip Toys (San Jacinto, CA)</td><td>San Jacinto</td></tr>",
                            "<tr><td>Taneli Riutta</td><td>Sandy Level</td></tr>",
                            "<tr><td>Tailspin Toys (Sans Souci, SC)</td><td>Sans Souci</td></tr>",
                            "<tr><td>Wingtip Toys (Sarversville, PA)</td><td>Sarversville</td></tr>",
                            "<tr><td>Tailspin Toys (Sauquoit, NY)</td><td>Sauquoit</td></tr>",
                            "<tr><td>Isa Hulsegge</td><td>Saxapahaw</td></tr>",
                            "<tr><td>Wingtip Toys (Sayner, WI)</td><td>Sayner</td></tr>",
                            "<tr><td>Akhil Nadar</td><td>Schaal</td></tr>",
                            "<tr><td>Wingtip Toys (Schererville, IN)</td><td>Schererville</td></tr>",
                            "<tr><td>Nicolo Cattaneo</td><td>Schoharie</td></tr>",
                            "<tr><td>Dipti Shah</td><td>Scioto Furnace</td></tr>",
                            "<tr><td>Tailspin Toys (Scofield, UT)</td><td>Scofield</td></tr>",
                            "<tr><td>Damodar Shenoy</td><td>Scott</td></tr>",
                            "<tr><td>Alinne Matos</td><td>Sea Island</td></tr>",
                            "<tr><td>Tailspin Toys (Seagraves, TX)</td><td>Seagraves</td></tr>",
                            "<tr><td>Alena Kellnerova</td><td>Segundo</td></tr>",
                            "<tr><td>Ebru Erdogan</td><td>Seiling</td></tr>",
                            "<tr><td>Tailspin Toys (Sekiu, WA)</td><td>Sekiu</td></tr>",
                            "<tr><td>Tailspin Toys (Sentinel Butte, ND)</td><td>Sentinel Butte</td></tr>",
                            "<tr><td>Tailspin Toys (Severna Park, MD)</td><td>Severna Park</td></tr>",
                            "<tr><td>Eugen Agafitei</td><td>Shawboro</td></tr>",
                            "<tr><td>Wingtip Toys (Shay, PA)</td><td>Shay</td></tr>",
                            "<tr><td>Eric Torres</td><td>Shell</td></tr>",
                            "<tr><td>Gasper Havzija</td><td>Shell Knob</td></tr>",
                            "<tr><td>Gayatri Gajula</td><td>Shenorock</td></tr>",
                            "<tr><td>Olafs Rozitis</td><td>Sherwin</td></tr>",
                            "<tr><td>Jaroslav Fisar</td><td>Sigel</td></tr>",
                            "<tr><td>Wingtip Toys (Silver Plume, CO)</td><td>Silver Plume</td></tr>",
                            "<tr><td>Shi Tu</td><td>Sinclair</td></tr>",
                            "<tr><td>Tailspin Toys (Sinclair, WY)</td><td>Sinclair</td></tr>",
                            "<tr><td>Tailspin Toys (Skyway, WA)</td><td>Skyway</td></tr>",
                            "<tr><td>Tailspin Toys (Slanesville, WV)</td><td>Slanesville</td></tr>",
                            "<tr><td>Wingtip Toys (Smoot, WY)</td><td>Smoot</td></tr>",
                            "<tr><td>Pari Hosseini</td><td>Soham</td></tr>",
                            "<tr><td>Tailspin Toys (South Euclid, OH)</td><td>South Euclid</td></tr>",
                            "<tr><td>Tailspin Toys (South La Paloma, TX)</td><td>South La Paloma</td></tr>",
                            "<tr><td>Tailspin Toys (South Laguna, CA)</td><td>South Laguna</td></tr>",
                            "<tr><td>Manca Hrastovsek</td><td>Southside</td></tr>",
                            "<tr><td>Leila Carvalho</td><td>Spillertown</td></tr>",
                            "<tr><td>Daakshaayaani Sankaramanchi</td><td>Spillville</td></tr>",
                            "<tr><td>Fabrice Cloutier</td><td>Staley</td></tr>",
                            "<tr><td>Tailspin Toys (Stallion Springs, CA)</td><td>Stallion Springs</td></tr>",
                            "<tr><td>Wingtip Toys (Stanardsville, VA)</td><td>Stanardsville</td></tr>",
                            "<tr><td>Tailspin Toys (Statenville, GA)</td><td>Statenville</td></tr>",
                            "<tr><td>Wingtip Toys (Stoneboro, PA)</td><td>Stoneboro</td></tr>",
                            "<tr><td>Tailspin Toys (Stonefort, IL)</td><td>Stonefort</td></tr>",
                            "<tr><td>Wingtip Toys (Straughn, IN)</td><td>Straughn</td></tr>",
                            "<tr><td>Tailspin Toys (Sun River, MT)</td><td>Sun River</td></tr>",
                            "<tr><td>Wingtip Toys (Sunburg, MN)</td><td>Sunburg</td></tr>",
                            "<tr><td>Anindya Ghatak</td><td>Switz City</td></tr>",
                            "<tr><td>Tailspin Toys (Sylvanite, MT)</td><td>Sylvanite</td></tr>",
                            "<tr><td>Wingtip Toys (Taft Heights, CA)</td><td>Taft Heights</td></tr>",
                            "<tr><td>Crina Grasu</td><td>Tamora</td></tr>",
                            "<tr><td>Damodara Trivedi</td><td>Tarzan</td></tr>",
                            "<tr><td>Tailspin Toys (Tavares, FL)</td><td>Tavares</td></tr>",
                            "<tr><td>Wingtip Toys (Tea, SD)</td><td>Tea</td></tr>",
                            "<tr><td>Ludmila Smidova</td><td>Tempe</td></tr>",
                            "<tr><td>Shyam Poddar</td><td>Tenstrike</td></tr>",
                            "<tr><td>Bala Dixit</td><td>Termo</td></tr>",
                            "<tr><td>Tailspin Toys (Terre du Lac, MO)</td><td>Terre du Lac</td></tr>",
                            "<tr><td>Wingtip Toys (Teutopolis, IL)</td><td>Teutopolis</td></tr>",
                            "<tr><td>Tailspin Toys (Teutopolis, IL)</td><td>Teutopolis</td></tr>",
                            "<tr><td>Kamila Michnova</td><td>The Colony</td></tr>",
                            "<tr><td>Tailspin Toys (Tierra Verde, FL)</td><td>Tierra Verde</td></tr>",
                            "<tr><td>Suparna Bhattacharya</td><td>Tiff City</td></tr>",
                            "<tr><td>Wingtip Toys (Tilleda, WI)</td><td>Tilleda</td></tr>",
                            "<tr><td>Darshana Madhunapantula</td><td>Tolchester Beach</td></tr>",
                            "<tr><td>Tailspin Toys (Tolna, ND)</td><td>Tolna</td></tr>",
                            "<tr><td>Sercan Celik</td><td>Tolono</td></tr>",
                            "<tr><td>Tailspin Toys (Tomnolen, MS)</td><td>Tomnolen</td></tr>",
                            "<tr><td>Tailspin Toys (Tooele, UT)</td><td>Tooele</td></tr>",
                            "<tr><td>Tailspin Toys (Topstone, CT)</td><td>Topstone</td></tr>",
                            "<tr><td>David safranek</td><td>Toughkenamon</td></tr>",
                            "<tr><td>Wingtip Toys (Towaco, NJ)</td><td>Towaco</td></tr>",
                            "<tr><td>Tomo Vidovic</td><td>Tremont</td></tr>",
                            "<tr><td>Tailspin Toys (Trentwood, WA)</td><td>Trentwood</td></tr>",
                            "<tr><td>Tailspin Toys (Tresckow, PA)</td><td>Tresckow</td></tr>",
                            "<tr><td>Wingtip Toys (Triadelphia, WV)</td><td>Triadelphia</td></tr>",
                            "<tr><td>Ingrida Zeltina</td><td>Trilby</td></tr>",
                            "<tr><td>Wingtip Toys (Trout Run, PA)</td><td>Trout Run</td></tr>",
                            "<tr><td>Wingtip Toys (Trumansburg, NY)</td><td>Trumansburg</td></tr>",
                            "<tr><td>Wingtip Toys (Truscott, TX)</td><td>Truscott</td></tr>",
                            "<tr><td>Prabodh Nair</td><td>Tschetter Colony</td></tr>",
                            "<tr><td>Tailspin Toys (Tumacacori, AZ)</td><td>Tumacacori</td></tr>",
                            "<tr><td>Tailspin Toys (Tunnelhill, PA)</td><td>Tunnelhill</td></tr>",
                            "<tr><td>Wingtip Toys (Tuscaloosa, AL)</td><td>Tuscaloosa</td></tr>",
                            "<tr><td>Dominic Davignon</td><td>Twin Peaks</td></tr>",
                            "<tr><td>Isidora Morales</td><td>Twodot</td></tr>",
                            "<tr><td>Wingtip Toys (Universal City, TX)</td><td>Universal City</td></tr>",
                            "<tr><td>Tailspin Toys (Upper Preston, WA)</td><td>Upper Preston</td></tr>",
                            "<tr><td>Wingtip Toys (Vair, TX)</td><td>Vair</td></tr>",
                            "<tr><td>Tailspin Toys (Valdese, NC)</td><td>Valdese</td></tr>",
                            "<tr><td>Wingtip Toys (Valhalla, NC)</td><td>Valhalla</td></tr>",
                            "<tr><td>Malorie Bousquet</td><td>Valley View Park</td></tr>",
                            "<tr><td>Wingtip Toys (Vamo, FL)</td><td>Vamo</td></tr>",
                            "<tr><td>Libuse Kuchtova</td><td>Van Alstyne</td></tr>",
                            "<tr><td>Tailspin Toys (Vassalboro, ME)</td><td>Vassalboro</td></tr>",
                            "<tr><td>Svetlana Todorovic</td><td>Venersborg</td></tr>",
                            "<tr><td>Wingtip Toys (Verdery, SC)</td><td>Verdery</td></tr>",
                            "<tr><td>Tailspin Toys (Victory Gardens, NJ)</td><td>Victory Gardens</td></tr>",
                            "<tr><td>Tailspin Toys (Vidrine, LA)</td><td>Vidrine</td></tr>",
                            "<tr><td>Aive Petrov</td><td>Virgil</td></tr>",
                            "<tr><td>Amarakumaar Gadiyaram</td><td>Vollmar</td></tr>",
                            "<tr><td>Philip Walker</td><td>Waite Hill</td></tr>",
                            "<tr><td>Yves Belisle</td><td>Walapai</td></tr>",
                            "<tr><td>Abhra Ganguly</td><td>Walker Valley</td></tr>",
                            "<tr><td>Tailspin Toys (Wallagrass, ME)</td><td>Wallagrass</td></tr>",
                            "<tr><td>Gunnar Lohmus</td><td>Wanaque</td></tr>",
                            "<tr><td>Wingtip Toys (Wapinitia, OR)</td><td>Wapinitia</td></tr>",
                            "<tr><td>Wingtip Toys (Wapiti, WY)</td><td>Wapiti</td></tr>",
                            "<tr><td>Tailspin Toys (Wappingers Falls, NY)</td><td>Wappingers Falls</td></tr>",
                            "<tr><td>Tailspin Toys (Ward Ridge, FL)</td><td>Ward Ridge</td></tr>",
                            "<tr><td>Wingtip Toys (Ware Shoals, SC)</td><td>Ware Shoals</td></tr>",
                            "<tr><td>Rajeev Sandhu</td><td>Wasco</td></tr>",
                            "<tr><td>Be Trang</td><td>Watonga</td></tr>",
                            "<tr><td>Wingtip Toys (Waycross, GA)</td><td>Waycross</td></tr>",
                            "<tr><td>Jana Fialova</td><td>Weigelstown</td></tr>",
                            "<tr><td>Wingtip Toys (Weld, ME)</td><td>Weld</td></tr>",
                            "<tr><td>Bhadram Kamasamudram</td><td>Wells</td></tr>",
                            "<tr><td>Drishti Bose</td><td>Wesson</td></tr>",
                            "<tr><td>Leyla Asef zade</td><td>West Elkton</td></tr>",
                            "<tr><td>Wingtip Toys (West Frostproof, FL)</td><td>West Frostproof</td></tr>",
                            "<tr><td>Wingtip Toys (West Hempstead, NY)</td><td>West Hempstead</td></tr>",
                            "<tr><td>Devraj Rao</td><td>Westwater</td></tr>",
                            "<tr><td>Wingtip Toys (White Church, MO)</td><td>White Church</td></tr>",
                            "<tr><td>Hoc Tran</td><td>White Horse Beach</td></tr>",
                            "<tr><td>Tailspin Toys (Wilkes-Barre, PA)</td><td>Wilkes-Barre</td></tr>",
                            "<tr><td>Wingtip Toys (Willow Valley, AZ)</td><td>Willow Valley</td></tr>",
                            "<tr><td>Tailspin Toys (Wimbledon, ND)</td><td>Wimbledon</td></tr>",
                            "<tr><td>Tailspin Toys (Windsor Locks, CT)</td><td>Windsor Locks</td></tr>",
                            "<tr><td>Kristiina Ivanov</td><td>Wounded Knee</td></tr>",
                            "<tr><td>Magdalena Michnova</td><td>Wrangell</td></tr>",
                            "<tr><td>Emma Van Zant</td><td>Wray</td></tr>",
                            "<tr><td>Manjunatha Karnik</td><td>Wright City</td></tr>",
                            "<tr><td>Volkan senturk</td><td>Wyndham</td></tr>",
                            "<tr><td>Wingtip Toys (Yaak, MT)</td><td>Yaak</td></tr>",
                            "<tr><td>Amet Shergill</td><td>Yampa</td></tr>",
                            "<tr><td>Kristi Part</td><td>Yerington</td></tr>",
                            "<tr><td>Bimla PrabhupÄda</td><td>Yermo</td></tr>",
                            "<tr><td>Tailspin Toys (Yewed, OK)</td><td>Yewed</td></tr>",
                            "<tr><td>Milinka Zujovic</td><td>Zurich</td></tr>",
                            "</table>"
                        ]
                    }
                }
            ],
            "execution_count": 37
        }
    ]
}