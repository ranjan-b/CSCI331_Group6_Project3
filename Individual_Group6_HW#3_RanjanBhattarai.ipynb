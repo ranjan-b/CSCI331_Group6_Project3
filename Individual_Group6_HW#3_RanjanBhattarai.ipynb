{
    "metadata": {
        "kernelspec": {
            "name": "SQL",
            "display_name": "SQL",
            "language": "sql"
        },
        "language_info": {
            "name": "sql",
            "version": ""
        }
    },
    "nbformat_minor": 2,
    "nbformat": 4,
    "cells": [
        {
            "cell_type": "markdown",
            "source": [
                "1. Get all supplier categories with specific delivery methods"
            ],
            "metadata": {
                "azdata_cell_guid": "018f428b-2297-4f9e-aa74-d845e2589425"
            }
        },
        {
            "cell_type": "markdown",
            "source": [
                "Proposition: Different supplier categories have preferred delivery methods"
            ],
            "metadata": {
                "azdata_cell_guid": "ae150b16-0881-442c-b226-a9585d120746"
            }
        },
        {
            "cell_type": "code",
            "source": [
                "--1. Get all valid supplier categories \n",
                "--Proposition: Different supplier who are still active\n",
                "USE WideWorldImporters;\n",
                "SELECT SupplierCategoryID, SupplierCategoryName, ValidFrom, ValidTo\n",
                "FROM Purchasing.SupplierCategories\n",
                "WHERE ValidTo = '9999-12-31 23:59:59.9999999'  -- Currently valid categories\n",
                "ORDER BY SupplierCategoryName ASC;\n",
                "\n",
                "\n",
                "-- 2. Get all products with unit price greater than $50\n",
                "-- Proposition: Some products are priced above $50 and below $100\n",
                "USE WideWorldImporters;\n",
                "SELECT StockItemID, StockItemName, UnitPrice, RecommendedRetailPrice\n",
                "FROM Warehouse.StockItems\n",
                "WHERE UnitPrice BETWEEN 50 AND 100\n",
                "GROUP BY StockItemID, StockItemName, UnitPrice, RecommendedRetailPrice\n",
                "HAVING COUNT(*) >= 1\n",
                "ORDER BY UnitPrice DESC;\n",
                "\n",
                "\n",
                "-- 3. Find all orders placed in December 2016\n",
                "-- Proposition: Orders were placed during December 2016\n",
                "USE WideWorldImporters;\n",
                "SELECT OrderID, CustomerID, OrderDate, ExpectedDeliveryDate\n",
                "FROM Sales.Orders\n",
                "WHERE OrderDate >= '2013-12-01' AND OrderDate < '2014-01-01'\n",
                "ORDER BY OrderDate;\n",
                "\n",
                "\n",
                "-- 4. Get employees who are salespersons\n",
                "-- Proposition: There are employees with the job title of salesperson\n",
                "USE WideWorldImporters;\n",
                "SELECT PersonID, FullName, PreferredName, EmailAddress\n",
                "FROM Application.People\n",
                "WHERE IsSalesperson = 1\n",
                "ORDER BY FullName;\n",
                "\n",
                "\n",
                "-- 5. Find cities with population greater than 2 million\n",
                "-- Proposition: Some cities in the database have populations exceeding 2 million\n",
                "USE WideWorldImporters;\n",
                "SELECT CityID, CityName, StateProvinceID, LatestRecordedPopulation\n",
                "FROM Application.Cities\n",
                "WHERE LatestRecordedPopulation > 2000000\n",
                "ORDER BY LatestRecordedPopulation DESC;\n",
                "\n",
                "\n",
                "-- 6. Get all stock items that are cold/freezer products\n",
                "-- Proposition: Some products require chilled storage\n",
                "USE WideWorldImporters;\n",
                "SELECT StockItemID, StockItemName, UnitPrice, IsChillerStock\n",
                "FROM Warehouse.StockItems\n",
                "WHERE IsChillerStock = 1\n",
                "ORDER BY StockItemName ASC;\n",
                "\n",
                "\n",
                "-- 7. Get all stock items with search details containing \"toy\"\n",
                "-- Proposition: The company sells toy products\n",
                "USE WideWorldImporters;\n",
                "SELECT StockItemID, StockItemName, SearchDetails, UnitPrice\n",
                "FROM Warehouse.StockItems\n",
                "WHERE SearchDetails LIKE '%toy%'\n",
                "ORDER BY UnitPrice DESC;\n",
                "\n",
                "-- 8. Get purchase orders with total amount exceeding $1,000,000\n",
                "-- Proposition: Some purchase orders have values greater than $1,000,000\n",
                "USE WideWorldImporters;\n",
                "SELECT \n",
                "    PurchaseOrderID,\n",
                "    SUM(OrderedOuters * ExpectedUnitPricePerOuter) AS TotalAmount\n",
                "FROM Purchasing.PurchaseOrderLines\n",
                "GROUP BY PurchaseOrderID\n",
                "HAVING SUM(OrderedOuters * ExpectedUnitPricePerOuter) > 1000000\n",
                "ORDER BY TotalAmount DESC;\n",
                "\n",
                "\n",
                "-- 9. Find all customers with credit limit above $4,000\n",
                "-- Proposition: Some customers have been granted credit limits exceeding $4,000\n",
                "USE WideWorldImporters;\n",
                "SELECT CustomerID, CustomerName, CreditLimit, PaymentDays, PhoneNumber\n",
                "FROM Sales.Customers\n",
                "WHERE CreditLimit > 4000\n",
                "ORDER BY CreditLimit DESC;\n",
                "\n",
                "-- 10. Find all transactions of the first quarter\n",
                "-- Proposition: Business transactions occurred on the first quarter of 2014\n",
                "SELECT CustomerTransactionID, CustomerID, TransactionDate, TransactionAmount\n",
                "FROM Sales.CustomerTransactions\n",
                "WHERE TransactionDate > '2013-12-31' AND TransactionDate <= '2014-03-31'\n",
                "ORDER BY TransactionAmount DESC;"
            ],
            "metadata": {
                "azdata_cell_guid": "097a6270-af7e-495a-9ce5-9064c2ffcd82",
                "language": "sql"
            },
            "outputs": [],
            "execution_count": null
        }
    ]
}