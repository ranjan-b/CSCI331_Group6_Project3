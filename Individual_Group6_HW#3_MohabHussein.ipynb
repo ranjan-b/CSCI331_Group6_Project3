{
 "cells": [
  {
   "cell_type": "markdown",
   "metadata": {},
   "source": [
    "### 1. Find the top 10 customers by total spending"
   ]
  },
  {
   "cell_type": "code",
   "execution_count": null,
   "metadata": {},
   "outputs": [],
   "source": [
    "SELECT TOP 10\n",
    "    c.CustomerName,\n",
    "    SUM(il.Quantity * il.UnitPrice) AS TotalSpent\n",
    "FROM\n",
    "    Sales.Customers AS c\n",
    "JOIN\n",
    "    Sales.Invoices AS i ON c.CustomerID = i.CustomerID\n",
    "JOIN\n",
    "    Sales.InvoiceLines AS il ON i.InvoiceID = il.InvoiceID\n",
    "GROUP BY\n",
    "    c.CustomerName\n",
    "ORDER BY\n",
    "    TotalSpent DESC;"
   ]
  },
  {
   "cell_type": "markdown",
   "metadata": {},
   "source": [
    "### 2. Find the top 10 products by total revenue"
   ]
  },
  {
   "cell_type": "code",
   "execution_count": null,
   "metadata": {},
   "outputs": [],
   "source": [
    "SELECT TOP 10\n",
    "    si.StockItemName,\n",
    "    SUM(il.Quantity * il.UnitPrice) AS TotalRevenue\n",
    "FROM\n",
    "    Warehouse.StockItems AS si\n",
    "JOIN\n",
    "    Sales.InvoiceLines AS il ON si.StockItemID = il.StockItemID\n",
    "GROUP BY\n",
    "    si.StockItemName\n",
    "ORDER BY\n",
    "    TotalRevenue DESC;"
   ]
  },
  {
   "cell_type": "markdown",
   "metadata": {},
   "source": [
    "### 3. Find the top 5 states by sales revenue"
   ]
  },
  {
   "cell_type": "code",
   "execution_count": null,
   "metadata": {},
   "outputs": [],
   "source": [
    "SELECT TOP 5\n",
    "    sp.StateProvinceName,\n",
    "    '$' + CONVERT(varchar, SUM(il.Quantity * il.UnitPrice), 1) AS TotalSalesRevenue\n",
    "FROM\n",
    "    Application.StateProvinces AS sp\n",
    "JOIN\n",
    "    Application.Cities AS city ON sp.StateProvinceID = city.StateProvinceID\n",
    "JOIN\n",
    "    Sales.Customers AS c ON city.CityID = c.DeliveryCityID\n",
    "JOIN\n",
    "    Sales.Invoices AS i ON c.CustomerID = i.CustomerID\n",
    "JOIN\n",
    "    Sales.InvoiceLines AS il ON i.InvoiceID = il.InvoiceID\n",
    "GROUP BY\n",
    "    sp.StateProvinceName\n",
    "ORDER BY\n",
    "    SUM(il.Quantity * il.UnitPrice) DESC;"
   ]
  },
  {
   "cell_type": "markdown",
   "metadata": {},
   "source": [
    "### 4. Rank salespeople by total revenue generated"
   ]
  },
  {
   "cell_type": "code",
   "execution_count": null,
   "metadata": {},
   "outputs": [],
   "source": [
    "SELECT\n",
    "    p.FullName AS Salesperson,\n",
    "    '$' + CONVERT(varchar, SUM(il.Quantity * il.UnitPrice), 1) AS TotalRevenueGenerated\n",
    "FROM\n",
    "    Application.People AS p\n",
    "JOIN\n",
    "    Sales.Invoices AS i ON p.PersonID = i.SalespersonPersonID\n",
    "JOIN\n",
    "    Sales.InvoiceLines AS il ON i.InvoiceID = il.InvoiceID\n",
    "GROUP BY\n",
    "    p.FullName\n",
    "ORDER BY\n",
    "    SUM(il.Quantity * il.UnitPrice) DESC;"
   ]
  },
  {
   "cell_type": "markdown",
   "metadata": {},
   "source": [
    "### 5. Find products that are below their reorder level"
   ]
  },
  {
   "cell_type": "code",
   "execution_count": null,
   "metadata": {},
   "outputs": [],
   "source": [
    "SELECT\n",
    "    si.StockItemName,\n",
    "    s.SupplierName,\n",
    "    sih.QuantityOnHand,\n",
    "    sih.ReorderLevel\n",
    "FROM\n",
    "    Warehouse.StockItemHoldings AS sih\n",
    "JOIN\n",
    "    Warehouse.StockItems AS si ON sih.StockItemID = si.StockItemID\n",
    "JOIN\n",
    "    Purchasing.Suppliers AS s ON si.SupplierID = s.SupplierID\n",
    "WHERE\n",
    "    sih.QuantityOnHand < sih.ReorderLevel\n",
    "ORDER BY\n",
    "    si.StockItemName;"
   ]
  },
  {
   "cell_type": "markdown",
   "metadata": {},
   "source": [
    "### 6. Find products that have never been sold"
   ]
  },
  {
   "cell_type": "code",
   "execution_count": null,
   "metadata": {},
   "outputs": [],
   "source": [
    "SELECT\n",
    "    si.StockItemName,\n",
    "    sih.QuantityOnHand\n",
    "FROM\n",
    "    Warehouse.StockItems AS si\n",
    "JOIN\n",
    "    Warehouse.StockItemHoldings as sih ON si.StockItemID = sih.StockItemID\n",
    "LEFT JOIN\n",
    "    Sales.InvoiceLines AS il ON si.StockItemID = il.StockItemID\n",
    "WHERE\n",
    "    il.InvoiceLineID IS NULL\n",
    "ORDER BY\n",
    "    si.StockItemName;"
   ]
  },
  {
   "cell_type": "markdown",
   "metadata": {},
   "source": [
    "### 7. Find the most valuable customer categories by revenue"
   ]
  },
  {
   "cell_type": "code",
   "execution_count": null,
   "metadata": {},
   "outputs": [],
   "source": [
    "SELECT\n",
    "    cc.CustomerCategoryName,\n",
    "    '$' + CONVERT(varchar, SUM(il.Quantity * il.UnitPrice), 1) as TotalRevenue\n",
    "FROM\n",
    "    Sales.CustomerCategories AS cc\n",
    "JOIN\n",
    "    Sales.Customers AS c ON cc.CustomerCategoryID = c.CustomerCategoryID\n",
    "JOIN\n",
    "    Sales.Invoices AS i ON c.CustomerID = i.CustomerID\n",
    "JOIN\n",
    "    Sales.InvoiceLines AS il ON i.InvoiceID = il.InvoiceID\n",
    "GROUP BY\n",
    "    cc.CustomerCategoryName\n",
    "ORDER BY\n",
    "    SUM(il.Quantity * il.UnitPrice) DESC;"
   ]
  },
  {
   "cell_type": "markdown",
   "metadata": {},
   "source": [
    "### 8. Find orders that were delivered late"
   ]
  },
  {
   "cell_type": "code",
   "execution_count": null,
   "metadata": {},
   "outputs": [],
   "source": [
    "SELECT\n",
    "    o.OrderID,\n",
    "    c.CustomerName,\n",
    "    o.ExpectedDeliveryDate,\n",
    "    CAST(i.ConfirmedDeliveryTime AS DATE) AS ActualDeliveryDate\n",
    "FROM\n",
    "    Sales.Orders AS o\n",
    "JOIN\n",
    "    Sales.Invoices AS i ON o.OrderID = i.OrderID\n",
    "JOIN\n",
    "    Sales.Customers AS c ON o.CustomerID = c.CustomerID\n",
    "WHERE\n",
    "    CAST(i.ConfirmedDeliveryTime AS DATE) > o.ExpectedDeliveryDate\n",
    "ORDER BY\n",
    "    o.ExpectedDeliveryDate;"
   ]
  },
  {
   "cell_type": "markdown",
   "metadata": {},
   "source": [
    "### 9. Find the top 5 suppliers by product variety"
   ]
  },
  {
   "cell_type": "code",
   "execution_count": null,
   "metadata": {},
   "outputs": [],
   "source": [
    "SELECT TOP 5\n",
    "    s.SupplierName,\n",
    "    COUNT(si.StockItemID) AS NumberOfProductsSupplied\n",
    "FROM\n",
    "    Purchasing.Suppliers AS s\n",
    "JOIN\n",
    "    Warehouse.StockItems AS si ON s.SupplierID = si.SupplierID\n",
    "GROUP BY\n",
    "    s.SupplierName\n",
    "ORDER BY\n",
    "    NumberOfProductsSupplied DESC;"
   ]
  },
  {
   "cell_type": "markdown",
   "metadata": {},
   "source": [
    "### 10. Analyze total sales volume by product package type"
   ]
  },
  {
   "cell_type": "code",
   "execution_count": null,
   "metadata": {},
   "outputs": [],
   "source": [
    "SELECT\n",
    "    pt.PackageTypeName,\n",
    "    SUM(il.Quantity) AS TotalQuantitySold\n",
    "FROM\n",
    "    Sales.InvoiceLines AS il\n",
    "JOIN\n",
    "    Warehouse.StockItems AS si ON il.StockItemID = si.StockItemID\n",
    "JOIN\n",
    "    Warehouse.PackageTypes AS pt ON si.UnitPackageID = pt.PackageTypeID\n",
    "GROUP BY\n",
    "    pt.PackageTypeName\n",
    "ORDER BY\n",
    "    TotalQuantitySold DESC;"
   ]
  }
 ],
 "metadata": {
  "kernelspec": {
   "display_name": "Python 3 (ipykernel)",
   "language": "python",
   "name": "python3"
  },
  "language_info": {
   "codemirror_mode": {
    "name": "ipython",
    "version": 3
   },
   "file_extension": ".py",
   "mimetype": "text/x-python",
   "name": "python",
   "nbconvert_exporter": "python",
   "pygments_lexer": "ipython3",
   "version": "3.10.4"
  }
 },
 "nbformat": 4,
 "nbformat_minor": 5
}

