--1. Get all supplier categories with specific delivery methods
--Proposition: Different supplier categories have preferred delivery methods
USE WideWorldImporters;
SELECT SupplierCategoryID, SupplierCategoryName, ValidFrom, ValidTo
FROM Purchasing.SupplierCategories
WHERE ValidTo = '9999-12-31 23:59:59.9999999'  -- Currently valid categories
ORDER BY SupplierCategoryName;


-- 2. Get all products with unit price greater than $50
-- Proposition: Some products are priced above $50 and below $100
USE WideWorldImporters;
SELECT StockItemID, StockItemName, UnitPrice, RecommendedRetailPrice
FROM Warehouse.StockItems
WHERE UnitPrice BETWEEN 50 AND 100
GROUP BY StockItemID, StockItemName, UnitPrice, RecommendedRetailPrice
HAVING COUNT(*) >= 1
ORDER BY UnitPrice DESC;


-- 3. Find all orders placed in December 2016
-- Proposition: Orders were placed during December 2016
USE WideWorldImporters;
SELECT OrderID, CustomerID, OrderDate, ExpectedDeliveryDate
FROM Sales.Orders
WHERE OrderDate >= '2013-12-01' AND OrderDate < '2014-01-01'
ORDER BY OrderDate;


-- 4. Get employees who are salespersons
-- Proposition: There are employees with the job title of salesperson
USE WideWorldImporters;
SELECT PersonID, FullName, PreferredName, EmailAddress
FROM Application.People
WHERE IsSalesperson = 1
ORDER BY FullName;


-- 5. Find cities with population greater than 2 million
-- Proposition: Some cities in the database have populations exceeding 2 million
USE WideWorldImporters;
SELECT CityID, CityName, StateProvinceID, LatestRecordedPopulation
FROM Application.Cities
WHERE LatestRecordedPopulation > 2000000
ORDER BY LatestRecordedPopulation DESC;


-- 6. Get all stock items that are cold/freezer products
-- Proposition: Some products require chilled storage
USE WideWorldImporters;
SELECT StockItemID, StockItemName, UnitPrice, IsChillerStock
FROM Warehouse.StockItems
WHERE IsChillerStock = 1
ORDER BY StockItemName ASC;


-- 7. Get all stock items with search details containing "toy"
-- Proposition: The company sells toy products
USE WideWorldImporters;
SELECT StockItemID, StockItemName, SearchDetails, UnitPrice
FROM Warehouse.StockItems
WHERE SearchDetails LIKE '%toy%'
ORDER BY UnitPrice DESC;

-- 8. Get purchase orders with total amount exceeding $1,000,000
-- Proposition: Some purchase orders have values greater than $1,000,000
USE WideWorldImporters;
SELECT 
    PurchaseOrderID,
    SUM(OrderedOuters * ExpectedUnitPricePerOuter) AS TotalAmount
FROM Purchasing.PurchaseOrderLines
GROUP BY PurchaseOrderID
HAVING SUM(OrderedOuters * ExpectedUnitPricePerOuter) > 1000000
ORDER BY TotalAmount DESC;


-- 9. Find all customers with credit limit above $4,000
-- Proposition: Some customers have been granted credit limits exceeding $4,000
USE WideWorldImporters;
SELECT CustomerID, CustomerName, CreditLimit, PaymentDays, PhoneNumber
FROM Sales.Customers
WHERE CreditLimit > 4000
ORDER BY CreditLimit DESC;

-- 10. Find all transactions of the first quarter
-- Proposition: Business transactions occurred on the first quarter of 2014
SELECT CustomerTransactionID, CustomerID, TransactionDate, TransactionAmount
FROM Sales.CustomerTransactions
WHERE TransactionDate > '2013-12-31' AND TransactionDate <= '2014-03-31'
ORDER BY TransactionAmount DESC;
